{
  "nbformat": 4,
  "nbformat_minor": 0,
  "metadata": {
    "colab": {
      "provenance": []
    },
    "kernelspec": {
      "name": "ir",
      "display_name": "R"
    }
  },
  "cells": [
    {
      "cell_type": "markdown",
      "metadata": {
        "id": "JA1cLDWwZgcu"
      },
      "source": [
        "#Intelligent Systems - Assignment 4 - Machine Learning\n",
        "\n",
        "- Member Names: Ahmet Süha Atici, Leonid Oliinyk.\n",
        "- Assignment: TODO\n",
        "  * design and implement a solution for the \"Missionaries and Cannibals\" puzzle, ensuring that cannibals never outnumber missionaries on either side of the river (when missionaries are present there).\n",
        "  * Implement and compare local search algorithms (SHC, RRHC, SRRHC, BS) to optimize antenna placement.\n",
        "- Time spent in the assignment: TODO (10-15?) hours total.\n",
        "- Proportion of effort done by members of the group: each member contributed 50% of effort.\n",
        "- Doubts and difficulties that arose during the realization: TODO\n",
        "  * understanding the intricacies of the search algorithms, becoming familiar with the R programming language, and effectively debugging the code.\n",
        "  * correctly implementing the logic for each local search variant (especially Beam Search successor selection and the random state generation for restart methods), debugging issues, interpreting the performance differences between the algorithms.\n",
        "- Use of AI: AI was used to clarify the assignment's problem description, understand given R code, and help with commenting the\n",
        "implemented functions.\n",
        "\n",
        "---\n",
        "\n",
        "**General instructions**\n",
        " 1. If you use a function of a certain library, do not forget to include the corresponding command to install or load the library\n",
        " 2. Do not forget to comment on the code, especially those non-trivial commands (part of the rating depends on the cleaning of the code)\n",
        " 3. It is strongly recommended to test any implemented function in order to    check for its proper operation\n",
        "\n",
        "---\n",
        "\n",
        " **Submission**\n",
        "- Print the notebook in a PDF file with all the sections expanded and all the cells executed, in a way all the code can be seen, and all the results are shown.\n",
        "- Save the notebook as ipynb file.\n",
        "- Submit both files into ALUD (not in a zip file)\n",
        "\n",
        "---\n",
        "\n",
        "**Evaluation**\n",
        "- Total Evaluation - 20%.\n",
        "  - Correct and error-free execution\n",
        "  - Efficiency and cleanness of the code\n",
        "  - Documentation of the code and analysis of results"
      ]
    },
    {
      "cell_type": "code",
      "metadata": {
        "id": "ozwk8xmIyg3d",
        "colab": {
          "base_uri": "https://localhost:8080/"
        },
        "outputId": "6ce328b0-eabd-49fd-db38-d373452fbe41"
      },
      "source": [
        "# PLEASE, INCLUDE HERE IF YOU USE ANY ADDITIONAL LIBRARY\n",
        "packages = c(\"glue\",\"ggplot2\",\"gridExtra\",\"tidyverse\",\"caret\",\"rpart\",\"e1071\")\n",
        "newpack  = packages[!(packages %in% installed.packages()[,\"Package\"])]\n",
        "if(length(newpack)) install.packages(newpack)\n",
        "a=lapply(packages, library, character.only=TRUE)\n",
        "rm(list = ls())"
      ],
      "execution_count": null,
      "outputs": [
        {
          "output_type": "stream",
          "name": "stderr",
          "text": [
            "Installing packages into ‘/usr/local/lib/R/site-library’\n",
            "(as ‘lib’ is unspecified)\n",
            "\n",
            "also installing the dependencies ‘listenv’, ‘parallelly’, ‘future’, ‘globals’, ‘shape’, ‘future.apply’, ‘numDeriv’, ‘progressr’, ‘SQUAREM’, ‘diagram’, ‘lava’, ‘prodlim’, ‘iterators’, ‘clock’, ‘gower’, ‘hardhat’, ‘ipred’, ‘sparsevctrs’, ‘timeDate’, ‘foreach’, ‘ModelMetrics’, ‘plyr’, ‘pROC’, ‘recipes’, ‘reshape2’, ‘proxy’\n",
            "\n",
            "\n",
            "── \u001b[1mAttaching core tidyverse packages\u001b[22m ──────────────────────── tidyverse 2.0.0 ──\n",
            "\u001b[32m✔\u001b[39m \u001b[34mdplyr    \u001b[39m 1.1.4     \u001b[32m✔\u001b[39m \u001b[34mreadr    \u001b[39m 2.1.5\n",
            "\u001b[32m✔\u001b[39m \u001b[34mforcats  \u001b[39m 1.0.0     \u001b[32m✔\u001b[39m \u001b[34mstringr  \u001b[39m 1.5.1\n",
            "\u001b[32m✔\u001b[39m \u001b[34mlubridate\u001b[39m 1.9.4     \u001b[32m✔\u001b[39m \u001b[34mtibble   \u001b[39m 3.2.1\n",
            "\u001b[32m✔\u001b[39m \u001b[34mpurrr    \u001b[39m 1.0.4     \u001b[32m✔\u001b[39m \u001b[34mtidyr    \u001b[39m 1.3.1\n",
            "── \u001b[1mConflicts\u001b[22m ────────────────────────────────────────── tidyverse_conflicts() ──\n",
            "\u001b[31m✖\u001b[39m \u001b[34mdplyr\u001b[39m::\u001b[32mcombine()\u001b[39m masks \u001b[34mgridExtra\u001b[39m::combine()\n",
            "\u001b[31m✖\u001b[39m \u001b[34mdplyr\u001b[39m::\u001b[32mfilter()\u001b[39m  masks \u001b[34mstats\u001b[39m::filter()\n",
            "\u001b[31m✖\u001b[39m \u001b[34mdplyr\u001b[39m::\u001b[32mlag()\u001b[39m     masks \u001b[34mstats\u001b[39m::lag()\n",
            "\u001b[36mℹ\u001b[39m Use the conflicted package (\u001b[3m\u001b[34m<http://conflicted.r-lib.org/>\u001b[39m\u001b[23m) to force all conflicts to become errors\n",
            "Loading required package: lattice\n",
            "\n",
            "\n",
            "Attaching package: ‘caret’\n",
            "\n",
            "\n",
            "The following object is masked from ‘package:purrr’:\n",
            "\n",
            "    lift\n",
            "\n",
            "\n"
          ]
        }
      ]
    },
    {
      "cell_type": "code",
      "source": [
        "set.seed(0)"
      ],
      "metadata": {
        "id": "E6JfqaeuMhNn"
      },
      "execution_count": null,
      "outputs": []
    },
    {
      "cell_type": "code",
      "source": [
        "# TODO\n",
        "# CHANGE tables to `knitr::kable`"
      ],
      "metadata": {
        "id": "K02HUMAV9y02"
      },
      "execution_count": null,
      "outputs": []
    },
    {
      "cell_type": "markdown",
      "metadata": {
        "id": "-mjP77s0mjvA"
      },
      "source": [
        "## 🚨 Linear Regression (Your solution here)\n",
        "\n",
        "\n"
      ]
    },
    {
      "cell_type": "markdown",
      "source": [
        "### Reading Data"
      ],
      "metadata": {
        "id": "vjGD0Di5PGFV"
      }
    },
    {
      "cell_type": "code",
      "source": [
        "# Read the advertising data\n",
        "lr_data_orig = read.csv(\"Advertising.csv\")\n",
        "lr_data = select(lr_data_orig, -X)\n",
        "head(lr_data)"
      ],
      "metadata": {
        "colab": {
          "base_uri": "https://localhost:8080/",
          "height": 286
        },
        "id": "xl6s3l1CMXOa",
        "outputId": "7f1a4238-54c3-4d28-c62b-99402f0ffae9"
      },
      "execution_count": null,
      "outputs": [
        {
          "output_type": "display_data",
          "data": {
            "text/html": [
              "<table class=\"dataframe\">\n",
              "<caption>A data.frame: 6 × 4</caption>\n",
              "<thead>\n",
              "\t<tr><th></th><th scope=col>TV</th><th scope=col>Radio</th><th scope=col>Newspaper</th><th scope=col>Sales</th></tr>\n",
              "\t<tr><th></th><th scope=col>&lt;dbl&gt;</th><th scope=col>&lt;dbl&gt;</th><th scope=col>&lt;dbl&gt;</th><th scope=col>&lt;dbl&gt;</th></tr>\n",
              "</thead>\n",
              "<tbody>\n",
              "\t<tr><th scope=row>1</th><td>230.1</td><td>37.8</td><td>69.2</td><td>22.1</td></tr>\n",
              "\t<tr><th scope=row>2</th><td> 44.5</td><td>39.3</td><td>45.1</td><td>10.4</td></tr>\n",
              "\t<tr><th scope=row>3</th><td> 17.2</td><td>45.9</td><td>69.3</td><td> 9.3</td></tr>\n",
              "\t<tr><th scope=row>4</th><td>151.5</td><td>41.3</td><td>58.5</td><td>18.5</td></tr>\n",
              "\t<tr><th scope=row>5</th><td>180.8</td><td>10.8</td><td>58.4</td><td>12.9</td></tr>\n",
              "\t<tr><th scope=row>6</th><td>  8.7</td><td>48.9</td><td>75.0</td><td> 7.2</td></tr>\n",
              "</tbody>\n",
              "</table>\n"
            ],
            "text/markdown": "\nA data.frame: 6 × 4\n\n| <!--/--> | TV &lt;dbl&gt; | Radio &lt;dbl&gt; | Newspaper &lt;dbl&gt; | Sales &lt;dbl&gt; |\n|---|---|---|---|---|\n| 1 | 230.1 | 37.8 | 69.2 | 22.1 |\n| 2 |  44.5 | 39.3 | 45.1 | 10.4 |\n| 3 |  17.2 | 45.9 | 69.3 |  9.3 |\n| 4 | 151.5 | 41.3 | 58.5 | 18.5 |\n| 5 | 180.8 | 10.8 | 58.4 | 12.9 |\n| 6 |   8.7 | 48.9 | 75.0 |  7.2 |\n\n",
            "text/latex": "A data.frame: 6 × 4\n\\begin{tabular}{r|llll}\n  & TV & Radio & Newspaper & Sales\\\\\n  & <dbl> & <dbl> & <dbl> & <dbl>\\\\\n\\hline\n\t1 & 230.1 & 37.8 & 69.2 & 22.1\\\\\n\t2 &  44.5 & 39.3 & 45.1 & 10.4\\\\\n\t3 &  17.2 & 45.9 & 69.3 &  9.3\\\\\n\t4 & 151.5 & 41.3 & 58.5 & 18.5\\\\\n\t5 & 180.8 & 10.8 & 58.4 & 12.9\\\\\n\t6 &   8.7 & 48.9 & 75.0 &  7.2\\\\\n\\end{tabular}\n",
            "text/plain": [
              "  TV    Radio Newspaper Sales\n",
              "1 230.1 37.8  69.2      22.1 \n",
              "2  44.5 39.3  45.1      10.4 \n",
              "3  17.2 45.9  69.3       9.3 \n",
              "4 151.5 41.3  58.5      18.5 \n",
              "5 180.8 10.8  58.4      12.9 \n",
              "6   8.7 48.9  75.0       7.2 "
            ]
          },
          "metadata": {}
        }
      ]
    },
    {
      "cell_type": "code",
      "source": [
        "# Data structure\n",
        "str(lr_data)"
      ],
      "metadata": {
        "colab": {
          "base_uri": "https://localhost:8080/"
        },
        "id": "Kbi2lDN2Ndfc",
        "outputId": "4f064e64-facd-4bc6-f742-1f6e6c1b12d8"
      },
      "execution_count": null,
      "outputs": [
        {
          "output_type": "stream",
          "name": "stdout",
          "text": [
            "'data.frame':\t200 obs. of  4 variables:\n",
            " $ TV       : num  230.1 44.5 17.2 151.5 180.8 ...\n",
            " $ Radio    : num  37.8 39.3 45.9 41.3 10.8 48.9 32.8 19.6 2.1 2.6 ...\n",
            " $ Newspaper: num  69.2 45.1 69.3 58.5 58.4 75 23.5 11.6 1 21.2 ...\n",
            " $ Sales    : num  22.1 10.4 9.3 18.5 12.9 7.2 11.8 13.2 4.8 10.6 ...\n"
          ]
        }
      ]
    },
    {
      "cell_type": "code",
      "source": [
        "# Data summary\n",
        "summary(lr_data)"
      ],
      "metadata": {
        "colab": {
          "base_uri": "https://localhost:8080/",
          "height": 138
        },
        "id": "UA3LATQsNaKn",
        "outputId": "e246885e-e58f-4c54-bc75-542b04a169fa"
      },
      "execution_count": null,
      "outputs": [
        {
          "output_type": "display_data",
          "data": {
            "text/plain": [
              "       TV             Radio          Newspaper          Sales      \n",
              " Min.   :  0.70   Min.   : 0.000   Min.   :  0.30   Min.   : 1.60  \n",
              " 1st Qu.: 74.38   1st Qu.: 9.975   1st Qu.: 12.75   1st Qu.:10.38  \n",
              " Median :149.75   Median :22.900   Median : 25.75   Median :12.90  \n",
              " Mean   :147.04   Mean   :23.264   Mean   : 30.55   Mean   :14.02  \n",
              " 3rd Qu.:218.82   3rd Qu.:36.525   3rd Qu.: 45.10   3rd Qu.:17.40  \n",
              " Max.   :296.40   Max.   :49.600   Max.   :114.00   Max.   :27.00  "
            ]
          },
          "metadata": {}
        }
      ]
    },
    {
      "cell_type": "markdown",
      "source": [
        "### Data Imputation"
      ],
      "metadata": {
        "id": "-iR0QjPYPL7E"
      }
    },
    {
      "cell_type": "code",
      "source": [
        "# Count NA values\n",
        "sum(is.na(lr_data))"
      ],
      "metadata": {
        "colab": {
          "base_uri": "https://localhost:8080/",
          "height": 34
        },
        "id": "0RrMUWXXPS1p",
        "outputId": "72ea0c30-e9ab-4337-a571-b89d25b9b2e1"
      },
      "execution_count": null,
      "outputs": [
        {
          "output_type": "display_data",
          "data": {
            "text/html": [
              "0"
            ],
            "text/markdown": "0",
            "text/latex": "0",
            "text/plain": [
              "[1] 0"
            ]
          },
          "metadata": {}
        }
      ]
    },
    {
      "cell_type": "markdown",
      "source": [
        "### Model Training"
      ],
      "metadata": {
        "id": "tPeZLQNGQmgR"
      }
    },
    {
      "cell_type": "code",
      "source": [
        "# Define a function to perform one iteration of training and evaluation\n",
        "train_and_evaluate = function(data_input, iteration_number = 0, perc = 0.75) {\n",
        "  # Randomly divide data into train (75%) and test (25%) subsets\n",
        "  data_length = 1:nrow(lr_data)\n",
        "  sample_indices = createDataPartition(y = data_length, p = perc, list = FALSE)\n",
        "  train_data = data_input[sample_indices, ]\n",
        "  test_data = data_input[-sample_indices, ]\n",
        "\n",
        "  # Train Linear Regression with train data to predict \"Sales\"\n",
        "  current_model = lm(Sales ~ ., data = train_data)\n",
        "\n",
        "  # Make predictions over the test data\n",
        "  predictions = predict(current_model, newdata = test_data)\n",
        "\n",
        "  # Calculate Metrics\n",
        "  actuals = test_data$Sales\n",
        "  mae = mean(abs(actuals - predictions))\n",
        "  mse = mean((actuals - predictions)^2)\n",
        "  mape = mean(abs((actuals - predictions) / actuals))\n",
        "\n",
        "  # Return a list containing the metrics and the trained model\n",
        "  return(list(\n",
        "    metrics = data.frame(\n",
        "      iteration = iteration_number,\n",
        "      mae = mae,\n",
        "      mse = mse,\n",
        "      mape = mape\n",
        "    ),\n",
        "    model = current_model\n",
        "  ))\n",
        "}"
      ],
      "metadata": {
        "id": "PiITrrtAPELS"
      },
      "execution_count": null,
      "outputs": []
    },
    {
      "cell_type": "code",
      "source": [
        "# Initialize variables\n",
        "lr_models_list = list()\n",
        "lr_metrics_list = list()\n",
        "train_percentage = 0.75"
      ],
      "metadata": {
        "id": "MKci4MMJWed2"
      },
      "execution_count": null,
      "outputs": []
    },
    {
      "cell_type": "code",
      "source": [
        "# Train and evaluate the model 10 times\n",
        "for (i in 1:10) {\n",
        "  iteration_result = train_and_evaluate(lr_data, iteration_number = i, perc = train_percentage)\n",
        "  lr_models_list[[i]] = iteration_result$model\n",
        "  lr_metrics_list[[i]] = iteration_result$metrics\n",
        "}"
      ],
      "metadata": {
        "id": "_WhpN4EeQkQd"
      },
      "execution_count": null,
      "outputs": []
    },
    {
      "cell_type": "markdown",
      "source": [
        "### Plot Coefficients"
      ],
      "metadata": {
        "id": "lQcl5BzxXUOZ"
      }
    },
    {
      "cell_type": "markdown",
      "source": [
        "#### Code"
      ],
      "metadata": {
        "id": "yAI09sq6z6lI"
      }
    },
    {
      "cell_type": "code",
      "source": [
        "# Extract coefficients from the last model\n",
        "last_lr_model = lr_models_list[[10]]\n",
        "model_coefficients = coef(last_lr_model)\n",
        "model_coefficients"
      ],
      "metadata": {
        "colab": {
          "base_uri": "https://localhost:8080/",
          "height": 34
        },
        "id": "zae6smTSZROm",
        "outputId": "8740f96c-5b65-4eff-a075-6166bf7298d2"
      },
      "execution_count": null,
      "outputs": [
        {
          "output_type": "display_data",
          "data": {
            "text/html": [
              "<style>\n",
              ".dl-inline {width: auto; margin:0; padding: 0}\n",
              ".dl-inline>dt, .dl-inline>dd {float: none; width: auto; display: inline-block}\n",
              ".dl-inline>dt::after {content: \":\\0020\"; padding-right: .5ex}\n",
              ".dl-inline>dt:not(:first-of-type) {padding-left: .5ex}\n",
              "</style><dl class=dl-inline><dt>(Intercept)</dt><dd>2.8621684095084</dd><dt>TV</dt><dd>0.0470750334052184</dd><dt>Radio</dt><dd>0.185311968306614</dd><dt>Newspaper</dt><dd>-0.00263921689043576</dd></dl>\n"
            ],
            "text/markdown": "(Intercept)\n:   2.8621684095084TV\n:   0.0470750334052184Radio\n:   0.185311968306614Newspaper\n:   -0.00263921689043576\n\n",
            "text/latex": "\\begin{description*}\n\\item[(Intercept)] 2.8621684095084\n\\item[TV] 0.0470750334052184\n\\item[Radio] 0.185311968306614\n\\item[Newspaper] -0.00263921689043576\n\\end{description*}\n",
            "text/plain": [
              " (Intercept)           TV        Radio    Newspaper \n",
              " 2.862168410  0.047075033  0.185311968 -0.002639217 "
            ]
          },
          "metadata": {}
        }
      ]
    },
    {
      "cell_type": "code",
      "source": [
        "# Convert the vector of coefficients to a data frame\n",
        "coefficients_df_last_model = data.frame(\n",
        "  coefficient_name = factor(names(model_coefficients)),\n",
        "  value = model_coefficients,\n",
        "  row.names = NULL\n",
        ")\n",
        "\n",
        "coefficients_df_last_model"
      ],
      "metadata": {
        "colab": {
          "base_uri": "https://localhost:8080/",
          "height": 223
        },
        "id": "J3tatyKNZmQS",
        "outputId": "c8f7c55d-edee-40f4-fa23-c4dc4dc01b2d"
      },
      "execution_count": null,
      "outputs": [
        {
          "output_type": "display_data",
          "data": {
            "text/html": [
              "<table class=\"dataframe\">\n",
              "<caption>A data.frame: 4 × 2</caption>\n",
              "<thead>\n",
              "\t<tr><th scope=col>coefficient_name</th><th scope=col>value</th></tr>\n",
              "\t<tr><th scope=col>&lt;fct&gt;</th><th scope=col>&lt;dbl&gt;</th></tr>\n",
              "</thead>\n",
              "<tbody>\n",
              "\t<tr><td>(Intercept)</td><td> 2.862168410</td></tr>\n",
              "\t<tr><td>TV         </td><td> 0.047075033</td></tr>\n",
              "\t<tr><td>Radio      </td><td> 0.185311968</td></tr>\n",
              "\t<tr><td>Newspaper  </td><td>-0.002639217</td></tr>\n",
              "</tbody>\n",
              "</table>\n"
            ],
            "text/markdown": "\nA data.frame: 4 × 2\n\n| coefficient_name &lt;fct&gt; | value &lt;dbl&gt; |\n|---|---|\n| (Intercept) |  2.862168410 |\n| TV          |  0.047075033 |\n| Radio       |  0.185311968 |\n| Newspaper   | -0.002639217 |\n\n",
            "text/latex": "A data.frame: 4 × 2\n\\begin{tabular}{ll}\n coefficient\\_name & value\\\\\n <fct> & <dbl>\\\\\n\\hline\n\t (Intercept) &  2.862168410\\\\\n\t TV          &  0.047075033\\\\\n\t Radio       &  0.185311968\\\\\n\t Newspaper   & -0.002639217\\\\\n\\end{tabular}\n",
            "text/plain": [
              "  coefficient_name value       \n",
              "1 (Intercept)       2.862168410\n",
              "2 TV                0.047075033\n",
              "3 Radio             0.185311968\n",
              "4 Newspaper        -0.002639217"
            ]
          },
          "metadata": {}
        }
      ]
    },
    {
      "cell_type": "code",
      "source": [
        "# Make a bar chart with model's coefficients\n",
        "coefficients_df_last_model %>%\n",
        "  ggplot(aes(x = coefficient_name, y = value, fill = value > 0)) +\n",
        "  geom_bar(stat = \"identity\", show.legend = FALSE) +\n",
        "  geom_text(aes(label = round(value, 3)),\n",
        "            vjust = ifelse(coefficients_df_last_model$value >= 0, -0.5, 1.5)) +\n",
        "  labs(title = \"Coefficients of the Linear Regression Model (Last Repetition)\",\n",
        "       x = \"Variable\", y = \"Coefficient Value\") +\n",
        "  theme_minimal()"
      ],
      "metadata": {
        "colab": {
          "base_uri": "https://localhost:8080/",
          "height": 437
        },
        "id": "VjS_JpSfagt0",
        "outputId": "58ebed54-b28b-48b6-b30c-dfe1f47e7719"
      },
      "execution_count": null,
      "outputs": [
        {
          "output_type": "display_data",
          "data": {
            "text/plain": [
              "plot without title"
            ],
            "image/png": "[encoded data removed]"
          },
          "metadata": {
            "image/png": {
              "width": 420,
              "height": 420
            }
          }
        }
      ]
    },
    {
      "cell_type": "markdown",
      "source": [
        "#### Conclusions"
      ],
      "metadata": {
        "id": "dNEkzXPyz1cf"
      }
    },
    {
      "cell_type": "markdown",
      "source": [
        "This last model shows that `TV` and `Radio` variables have a positive effect on `Sales`, with Radio having a larger impact. However, `Newspaper` variables does not appear to be important and is extremely close to zero, making it insignificant."
      ],
      "metadata": {
        "id": "4YkiPEY-z_tg"
      }
    },
    {
      "cell_type": "markdown",
      "source": [
        "### Print Execution Results"
      ],
      "metadata": {
        "id": "eLbPGxMKc8pq"
      }
    },
    {
      "cell_type": "markdown",
      "source": [
        "#### Code"
      ],
      "metadata": {
        "id": "I_9VgWV62jAM"
      }
    },
    {
      "cell_type": "code",
      "source": [
        "# Combine metrics list into a single dataframe\n",
        "all_lr_results = bind_rows(lr_metrics_list)\n",
        "all_lr_results"
      ],
      "metadata": {
        "colab": {
          "base_uri": "https://localhost:8080/",
          "height": 411
        },
        "id": "GaO8oruWc-5u",
        "outputId": "1ad75289-3e62-4008-a6ec-7db01363b1d1"
      },
      "execution_count": null,
      "outputs": [
        {
          "output_type": "display_data",
          "data": {
            "text/html": [
              "<table class=\"dataframe\">\n",
              "<caption>A data.frame: 10 × 4</caption>\n",
              "<thead>\n",
              "\t<tr><th scope=col>iteration</th><th scope=col>mae</th><th scope=col>mse</th><th scope=col>mape</th></tr>\n",
              "\t<tr><th scope=col>&lt;int&gt;</th><th scope=col>&lt;dbl&gt;</th><th scope=col>&lt;dbl&gt;</th><th scope=col>&lt;dbl&gt;</th></tr>\n",
              "</thead>\n",
              "<tbody>\n",
              "\t<tr><td> 1</td><td>1.147702</td><td>2.142378</td><td>0.08927249</td></tr>\n",
              "\t<tr><td> 2</td><td>1.146801</td><td>1.940040</td><td>0.10298462</td></tr>\n",
              "\t<tr><td> 3</td><td>1.547822</td><td>4.889717</td><td>0.26052430</td></tr>\n",
              "\t<tr><td> 4</td><td>1.190439</td><td>2.103767</td><td>0.13533841</td></tr>\n",
              "\t<tr><td> 5</td><td>1.248278</td><td>2.362213</td><td>0.11214419</td></tr>\n",
              "\t<tr><td> 6</td><td>1.398483</td><td>4.259606</td><td>0.23869211</td></tr>\n",
              "\t<tr><td> 7</td><td>1.202358</td><td>2.269568</td><td>0.10381744</td></tr>\n",
              "\t<tr><td> 8</td><td>1.097042</td><td>1.811584</td><td>0.09727396</td></tr>\n",
              "\t<tr><td> 9</td><td>1.307335</td><td>4.072351</td><td>0.22676141</td></tr>\n",
              "\t<tr><td>10</td><td>1.195870</td><td>2.305886</td><td>0.10643833</td></tr>\n",
              "</tbody>\n",
              "</table>\n"
            ],
            "text/markdown": "\nA data.frame: 10 × 4\n\n| iteration &lt;int&gt; | mae &lt;dbl&gt; | mse &lt;dbl&gt; | mape &lt;dbl&gt; |\n|---|---|---|---|\n|  1 | 1.147702 | 2.142378 | 0.08927249 |\n|  2 | 1.146801 | 1.940040 | 0.10298462 |\n|  3 | 1.547822 | 4.889717 | 0.26052430 |\n|  4 | 1.190439 | 2.103767 | 0.13533841 |\n|  5 | 1.248278 | 2.362213 | 0.11214419 |\n|  6 | 1.398483 | 4.259606 | 0.23869211 |\n|  7 | 1.202358 | 2.269568 | 0.10381744 |\n|  8 | 1.097042 | 1.811584 | 0.09727396 |\n|  9 | 1.307335 | 4.072351 | 0.22676141 |\n| 10 | 1.195870 | 2.305886 | 0.10643833 |\n\n",
            "text/latex": "A data.frame: 10 × 4\n\\begin{tabular}{llll}\n iteration & mae & mse & mape\\\\\n <int> & <dbl> & <dbl> & <dbl>\\\\\n\\hline\n\t  1 & 1.147702 & 2.142378 & 0.08927249\\\\\n\t  2 & 1.146801 & 1.940040 & 0.10298462\\\\\n\t  3 & 1.547822 & 4.889717 & 0.26052430\\\\\n\t  4 & 1.190439 & 2.103767 & 0.13533841\\\\\n\t  5 & 1.248278 & 2.362213 & 0.11214419\\\\\n\t  6 & 1.398483 & 4.259606 & 0.23869211\\\\\n\t  7 & 1.202358 & 2.269568 & 0.10381744\\\\\n\t  8 & 1.097042 & 1.811584 & 0.09727396\\\\\n\t  9 & 1.307335 & 4.072351 & 0.22676141\\\\\n\t 10 & 1.195870 & 2.305886 & 0.10643833\\\\\n\\end{tabular}\n",
            "text/plain": [
              "   iteration mae      mse      mape      \n",
              "1   1        1.147702 2.142378 0.08927249\n",
              "2   2        1.146801 1.940040 0.10298462\n",
              "3   3        1.547822 4.889717 0.26052430\n",
              "4   4        1.190439 2.103767 0.13533841\n",
              "5   5        1.248278 2.362213 0.11214419\n",
              "6   6        1.398483 4.259606 0.23869211\n",
              "7   7        1.202358 2.269568 0.10381744\n",
              "8   8        1.097042 1.811584 0.09727396\n",
              "9   9        1.307335 4.072351 0.22676141\n",
              "10 10        1.195870 2.305886 0.10643833"
            ]
          },
          "metadata": {}
        }
      ]
    },
    {
      "cell_type": "code",
      "source": [
        "summary_metrics = all_lr_results %>%\n",
        "    summarise(\n",
        "      Mean_MAE = mean(mae),\n",
        "      StDev_MAE = sd(mae),\n",
        "      Mean_MSE = mean(mse),\n",
        "      StDev_MSE = sd(mse),\n",
        "      Mean_MAPE = mean(mape),\n",
        "      StDev_MAPE = sd(mape)\n",
        "    ) %>%\n",
        "    round(3)\n",
        "\n",
        "t(summary_metrics)"
      ],
      "metadata": {
        "colab": {
          "base_uri": "https://localhost:8080/",
          "height": 240
        },
        "id": "9ntFutYyd6gA",
        "outputId": "e0451a25-0b1d-47ff-944d-97d5b4f92bda"
      },
      "execution_count": null,
      "outputs": [
        {
          "output_type": "display_data",
          "data": {
            "text/html": [
              "<table class=\"dataframe\">\n",
              "<caption>A matrix: 6 × 1 of type dbl</caption>\n",
              "<tbody>\n",
              "\t<tr><th scope=row>Mean_MAE</th><td>1.248</td></tr>\n",
              "\t<tr><th scope=row>StDev_MAE</th><td>0.136</td></tr>\n",
              "\t<tr><th scope=row>Mean_MSE</th><td>2.816</td></tr>\n",
              "\t<tr><th scope=row>StDev_MSE</th><td>1.129</td></tr>\n",
              "\t<tr><th scope=row>Mean_MAPE</th><td>0.147</td></tr>\n",
              "\t<tr><th scope=row>StDev_MAPE</th><td>0.067</td></tr>\n",
              "</tbody>\n",
              "</table>\n"
            ],
            "text/markdown": "\nA matrix: 6 × 1 of type dbl\n\n| Mean_MAE | 1.248 |\n| StDev_MAE | 0.136 |\n| Mean_MSE | 2.816 |\n| StDev_MSE | 1.129 |\n| Mean_MAPE | 0.147 |\n| StDev_MAPE | 0.067 |\n\n",
            "text/latex": "A matrix: 6 × 1 of type dbl\n\\begin{tabular}{r|l}\n\tMean\\_MAE & 1.248\\\\\n\tStDev\\_MAE & 0.136\\\\\n\tMean\\_MSE & 2.816\\\\\n\tStDev\\_MSE & 1.129\\\\\n\tMean\\_MAPE & 0.147\\\\\n\tStDev\\_MAPE & 0.067\\\\\n\\end{tabular}\n",
            "text/plain": [
              "           [,1] \n",
              "Mean_MAE   1.248\n",
              "StDev_MAE  0.136\n",
              "Mean_MSE   2.816\n",
              "StDev_MSE  1.129\n",
              "Mean_MAPE  0.147\n",
              "StDev_MAPE 0.067"
            ]
          },
          "metadata": {}
        }
      ]
    },
    {
      "cell_type": "markdown",
      "source": [
        "#### Conclusions"
      ],
      "metadata": {
        "id": "7Waime8N2hhc"
      }
    },
    {
      "cell_type": "markdown",
      "source": [
        "The MAE indicates that on average the model's sales predictions were off by approximately \\$1248. The MSE of 2.82 shows the average squared difference between predicted and actual sales. The MAPE suggests that the model's predictions typically were incorrect by about 14.73% from the actual sales values. Overall, the model appear to be fairly reliable."
      ],
      "metadata": {
        "id": "e-4YrWHv2k3M"
      }
    },
    {
      "cell_type": "markdown",
      "source": [
        "### Identify 10 Most Profitable Campaigns"
      ],
      "metadata": {
        "id": "74Jn-RmqfUt1"
      }
    },
    {
      "cell_type": "markdown",
      "source": [
        "#### Code"
      ],
      "metadata": {
        "id": "FB4tCPSj4b1s"
      }
    },
    {
      "cell_type": "code",
      "source": [
        "# Calculate predictions for all rows\n",
        "all_predictions = predict(last_lr_model, newdata = lr_data)"
      ],
      "metadata": {
        "id": "LiIWisoThuid"
      },
      "execution_count": null,
      "outputs": []
    },
    {
      "cell_type": "code",
      "source": [
        "# Add a column to the original dataset\n",
        "lr_data_all = lr_data_orig %>% mutate(sales_predicted = all_predictions)\n",
        "\n",
        "head(lr_data_all)"
      ],
      "metadata": {
        "colab": {
          "base_uri": "https://localhost:8080/",
          "height": 286
        },
        "id": "D2jwA_UohCtc",
        "outputId": "2ea3809a-88fa-4cf7-9028-e5d908e0fd10"
      },
      "execution_count": null,
      "outputs": [
        {
          "output_type": "display_data",
          "data": {
            "text/html": [
              "<table class=\"dataframe\">\n",
              "<caption>A data.frame: 6 × 6</caption>\n",
              "<thead>\n",
              "\t<tr><th></th><th scope=col>X</th><th scope=col>TV</th><th scope=col>Radio</th><th scope=col>Newspaper</th><th scope=col>Sales</th><th scope=col>sales_predicted</th></tr>\n",
              "\t<tr><th></th><th scope=col>&lt;int&gt;</th><th scope=col>&lt;dbl&gt;</th><th scope=col>&lt;dbl&gt;</th><th scope=col>&lt;dbl&gt;</th><th scope=col>&lt;dbl&gt;</th><th scope=col>&lt;dbl&gt;</th></tr>\n",
              "</thead>\n",
              "<tbody>\n",
              "\t<tr><th scope=row>1</th><td>1</td><td>230.1</td><td>37.8</td><td>69.2</td><td>22.1</td><td>20.51629</td></tr>\n",
              "\t<tr><th scope=row>2</th><td>2</td><td> 44.5</td><td>39.3</td><td>45.1</td><td>10.4</td><td>12.12074</td></tr>\n",
              "\t<tr><th scope=row>3</th><td>3</td><td> 17.2</td><td>45.9</td><td>69.3</td><td> 9.3</td><td>11.99478</td></tr>\n",
              "\t<tr><th scope=row>4</th><td>4</td><td>151.5</td><td>41.3</td><td>58.5</td><td>18.5</td><td>17.49303</td></tr>\n",
              "\t<tr><th scope=row>5</th><td>5</td><td>180.8</td><td>10.8</td><td>58.4</td><td>12.9</td><td>13.22057</td></tr>\n",
              "\t<tr><th scope=row>6</th><td>6</td><td>  8.7</td><td>48.9</td><td>75.0</td><td> 7.2</td><td>12.13554</td></tr>\n",
              "</tbody>\n",
              "</table>\n"
            ],
            "text/markdown": "\nA data.frame: 6 × 6\n\n| <!--/--> | X &lt;int&gt; | TV &lt;dbl&gt; | Radio &lt;dbl&gt; | Newspaper &lt;dbl&gt; | Sales &lt;dbl&gt; | sales_predicted &lt;dbl&gt; |\n|---|---|---|---|---|---|---|\n| 1 | 1 | 230.1 | 37.8 | 69.2 | 22.1 | 20.51629 |\n| 2 | 2 |  44.5 | 39.3 | 45.1 | 10.4 | 12.12074 |\n| 3 | 3 |  17.2 | 45.9 | 69.3 |  9.3 | 11.99478 |\n| 4 | 4 | 151.5 | 41.3 | 58.5 | 18.5 | 17.49303 |\n| 5 | 5 | 180.8 | 10.8 | 58.4 | 12.9 | 13.22057 |\n| 6 | 6 |   8.7 | 48.9 | 75.0 |  7.2 | 12.13554 |\n\n",
            "text/latex": "A data.frame: 6 × 6\n\\begin{tabular}{r|llllll}\n  & X & TV & Radio & Newspaper & Sales & sales\\_predicted\\\\\n  & <int> & <dbl> & <dbl> & <dbl> & <dbl> & <dbl>\\\\\n\\hline\n\t1 & 1 & 230.1 & 37.8 & 69.2 & 22.1 & 20.51629\\\\\n\t2 & 2 &  44.5 & 39.3 & 45.1 & 10.4 & 12.12074\\\\\n\t3 & 3 &  17.2 & 45.9 & 69.3 &  9.3 & 11.99478\\\\\n\t4 & 4 & 151.5 & 41.3 & 58.5 & 18.5 & 17.49303\\\\\n\t5 & 5 & 180.8 & 10.8 & 58.4 & 12.9 & 13.22057\\\\\n\t6 & 6 &   8.7 & 48.9 & 75.0 &  7.2 & 12.13554\\\\\n\\end{tabular}\n",
            "text/plain": [
              "  X TV    Radio Newspaper Sales sales_predicted\n",
              "1 1 230.1 37.8  69.2      22.1  20.51629       \n",
              "2 2  44.5 39.3  45.1      10.4  12.12074       \n",
              "3 3  17.2 45.9  69.3       9.3  11.99478       \n",
              "4 4 151.5 41.3  58.5      18.5  17.49303       \n",
              "5 5 180.8 10.8  58.4      12.9  13.22057       \n",
              "6 6   8.7 48.9  75.0       7.2  12.13554       "
            ]
          },
          "metadata": {}
        }
      ]
    },
    {
      "cell_type": "code",
      "source": [
        "# Calculate total investment for each campaign\n",
        "lr_data_profitable = lr_data_all %>%\n",
        "  mutate(\n",
        "    total_investment = TV + Radio + Newspaper,\n",
        "    ratio_real = Sales / total_investment,\n",
        "    ratio_pred = sales_predicted / total_investment\n",
        "  )\n",
        "head(lr_data_profitable)"
      ],
      "metadata": {
        "colab": {
          "base_uri": "https://localhost:8080/",
          "height": 286
        },
        "id": "uYFbYjzngrOW",
        "outputId": "fd7c3222-dda1-43a8-d360-5015f7f1f581"
      },
      "execution_count": null,
      "outputs": [
        {
          "output_type": "display_data",
          "data": {
            "text/html": [
              "<table class=\"dataframe\">\n",
              "<caption>A data.frame: 6 × 9</caption>\n",
              "<thead>\n",
              "\t<tr><th></th><th scope=col>X</th><th scope=col>TV</th><th scope=col>Radio</th><th scope=col>Newspaper</th><th scope=col>Sales</th><th scope=col>sales_predicted</th><th scope=col>total_investment</th><th scope=col>ratio_real</th><th scope=col>ratio_pred</th></tr>\n",
              "\t<tr><th></th><th scope=col>&lt;int&gt;</th><th scope=col>&lt;dbl&gt;</th><th scope=col>&lt;dbl&gt;</th><th scope=col>&lt;dbl&gt;</th><th scope=col>&lt;dbl&gt;</th><th scope=col>&lt;dbl&gt;</th><th scope=col>&lt;dbl&gt;</th><th scope=col>&lt;dbl&gt;</th><th scope=col>&lt;dbl&gt;</th></tr>\n",
              "</thead>\n",
              "<tbody>\n",
              "\t<tr><th scope=row>1</th><td>1</td><td>230.1</td><td>37.8</td><td>69.2</td><td>22.1</td><td>20.51629</td><td>337.1</td><td>0.06555918</td><td>0.06086115</td></tr>\n",
              "\t<tr><th scope=row>2</th><td>2</td><td> 44.5</td><td>39.3</td><td>45.1</td><td>10.4</td><td>12.12074</td><td>128.9</td><td>0.08068270</td><td>0.09403211</td></tr>\n",
              "\t<tr><th scope=row>3</th><td>3</td><td> 17.2</td><td>45.9</td><td>69.3</td><td> 9.3</td><td>11.99478</td><td>132.4</td><td>0.07024169</td><td>0.09059502</td></tr>\n",
              "\t<tr><th scope=row>4</th><td>4</td><td>151.5</td><td>41.3</td><td>58.5</td><td>18.5</td><td>17.49303</td><td>251.3</td><td>0.07361719</td><td>0.06961013</td></tr>\n",
              "\t<tr><th scope=row>5</th><td>5</td><td>180.8</td><td>10.8</td><td>58.4</td><td>12.9</td><td>13.22057</td><td>250.0</td><td>0.05160000</td><td>0.05288229</td></tr>\n",
              "\t<tr><th scope=row>6</th><td>6</td><td>  8.7</td><td>48.9</td><td>75.0</td><td> 7.2</td><td>12.13554</td><td>132.6</td><td>0.05429864</td><td>0.09151987</td></tr>\n",
              "</tbody>\n",
              "</table>\n"
            ],
            "text/markdown": "\nA data.frame: 6 × 9\n\n| <!--/--> | X &lt;int&gt; | TV &lt;dbl&gt; | Radio &lt;dbl&gt; | Newspaper &lt;dbl&gt; | Sales &lt;dbl&gt; | sales_predicted &lt;dbl&gt; | total_investment &lt;dbl&gt; | ratio_real &lt;dbl&gt; | ratio_pred &lt;dbl&gt; |\n|---|---|---|---|---|---|---|---|---|---|\n| 1 | 1 | 230.1 | 37.8 | 69.2 | 22.1 | 20.51629 | 337.1 | 0.06555918 | 0.06086115 |\n| 2 | 2 |  44.5 | 39.3 | 45.1 | 10.4 | 12.12074 | 128.9 | 0.08068270 | 0.09403211 |\n| 3 | 3 |  17.2 | 45.9 | 69.3 |  9.3 | 11.99478 | 132.4 | 0.07024169 | 0.09059502 |\n| 4 | 4 | 151.5 | 41.3 | 58.5 | 18.5 | 17.49303 | 251.3 | 0.07361719 | 0.06961013 |\n| 5 | 5 | 180.8 | 10.8 | 58.4 | 12.9 | 13.22057 | 250.0 | 0.05160000 | 0.05288229 |\n| 6 | 6 |   8.7 | 48.9 | 75.0 |  7.2 | 12.13554 | 132.6 | 0.05429864 | 0.09151987 |\n\n",
            "text/latex": "A data.frame: 6 × 9\n\\begin{tabular}{r|lllllllll}\n  & X & TV & Radio & Newspaper & Sales & sales\\_predicted & total\\_investment & ratio\\_real & ratio\\_pred\\\\\n  & <int> & <dbl> & <dbl> & <dbl> & <dbl> & <dbl> & <dbl> & <dbl> & <dbl>\\\\\n\\hline\n\t1 & 1 & 230.1 & 37.8 & 69.2 & 22.1 & 20.51629 & 337.1 & 0.06555918 & 0.06086115\\\\\n\t2 & 2 &  44.5 & 39.3 & 45.1 & 10.4 & 12.12074 & 128.9 & 0.08068270 & 0.09403211\\\\\n\t3 & 3 &  17.2 & 45.9 & 69.3 &  9.3 & 11.99478 & 132.4 & 0.07024169 & 0.09059502\\\\\n\t4 & 4 & 151.5 & 41.3 & 58.5 & 18.5 & 17.49303 & 251.3 & 0.07361719 & 0.06961013\\\\\n\t5 & 5 & 180.8 & 10.8 & 58.4 & 12.9 & 13.22057 & 250.0 & 0.05160000 & 0.05288229\\\\\n\t6 & 6 &   8.7 & 48.9 & 75.0 &  7.2 & 12.13554 & 132.6 & 0.05429864 & 0.09151987\\\\\n\\end{tabular}\n",
            "text/plain": [
              "  X TV    Radio Newspaper Sales sales_predicted total_investment ratio_real\n",
              "1 1 230.1 37.8  69.2      22.1  20.51629        337.1            0.06555918\n",
              "2 2  44.5 39.3  45.1      10.4  12.12074        128.9            0.08068270\n",
              "3 3  17.2 45.9  69.3       9.3  11.99478        132.4            0.07024169\n",
              "4 4 151.5 41.3  58.5      18.5  17.49303        251.3            0.07361719\n",
              "5 5 180.8 10.8  58.4      12.9  13.22057        250.0            0.05160000\n",
              "6 6   8.7 48.9  75.0       7.2  12.13554        132.6            0.05429864\n",
              "  ratio_pred\n",
              "1 0.06086115\n",
              "2 0.09403211\n",
              "3 0.09059502\n",
              "4 0.06961013\n",
              "5 0.05288229\n",
              "6 0.09151987"
            ]
          },
          "metadata": {}
        }
      ]
    },
    {
      "cell_type": "code",
      "source": [
        "# Get the top 10 most profitable campaigns based on the given sales\n",
        "top_profitable_real = lr_data_profitable %>%\n",
        "  arrange(desc(ratio_real)) %>%\n",
        "  mutate(Profitability_Ratio = round(ratio_real, 3)) %>%\n",
        "  select(X, TV, Radio, Newspaper, Sales, Profitability_Ratio) %>%\n",
        "  slice_head(n = 10)\n",
        "\n",
        "top_profitable_real"
      ],
      "metadata": {
        "colab": {
          "base_uri": "https://localhost:8080/",
          "height": 411
        },
        "id": "I7OUu5BxikFI",
        "outputId": "14e66929-07ca-4a6f-9e31-71a7a913a31a"
      },
      "execution_count": null,
      "outputs": [
        {
          "output_type": "display_data",
          "data": {
            "text/html": [
              "<table class=\"dataframe\">\n",
              "<caption>A data.frame: 10 × 6</caption>\n",
              "<thead>\n",
              "\t<tr><th scope=col>X</th><th scope=col>TV</th><th scope=col>Radio</th><th scope=col>Newspaper</th><th scope=col>Sales</th><th scope=col>Profitability_Ratio</th></tr>\n",
              "\t<tr><th scope=col>&lt;int&gt;</th><th scope=col>&lt;dbl&gt;</th><th scope=col>&lt;dbl&gt;</th><th scope=col>&lt;dbl&gt;</th><th scope=col>&lt;dbl&gt;</th><th scope=col>&lt;dbl&gt;</th></tr>\n",
              "</thead>\n",
              "<tbody>\n",
              "\t<tr><td>  9</td><td> 8.6</td><td> 2.1</td><td> 1.0</td><td> 4.8</td><td>0.410</td></tr>\n",
              "\t<tr><td> 67</td><td>31.5</td><td>24.6</td><td> 2.2</td><td> 9.5</td><td>0.163</td></tr>\n",
              "\t<tr><td>133</td><td> 8.4</td><td>27.2</td><td> 2.1</td><td> 5.7</td><td>0.151</td></tr>\n",
              "\t<tr><td>156</td><td> 4.1</td><td>11.6</td><td> 5.7</td><td> 3.2</td><td>0.150</td></tr>\n",
              "\t<tr><td> 77</td><td>27.5</td><td> 1.6</td><td>20.7</td><td> 6.9</td><td>0.139</td></tr>\n",
              "\t<tr><td>196</td><td>38.2</td><td> 3.7</td><td>13.8</td><td> 7.6</td><td>0.136</td></tr>\n",
              "\t<tr><td>109</td><td>13.1</td><td> 0.4</td><td>25.6</td><td> 5.3</td><td>0.136</td></tr>\n",
              "\t<tr><td>173</td><td>19.6</td><td>20.1</td><td>17.0</td><td> 7.6</td><td>0.134</td></tr>\n",
              "\t<tr><td>137</td><td>25.6</td><td>39.0</td><td> 9.3</td><td> 9.5</td><td>0.129</td></tr>\n",
              "\t<tr><td>191</td><td>39.5</td><td>41.1</td><td> 5.8</td><td>10.8</td><td>0.125</td></tr>\n",
              "</tbody>\n",
              "</table>\n"
            ],
            "text/markdown": "\nA data.frame: 10 × 6\n\n| X &lt;int&gt; | TV &lt;dbl&gt; | Radio &lt;dbl&gt; | Newspaper &lt;dbl&gt; | Sales &lt;dbl&gt; | Profitability_Ratio &lt;dbl&gt; |\n|---|---|---|---|---|---|\n|   9 |  8.6 |  2.1 |  1.0 |  4.8 | 0.410 |\n|  67 | 31.5 | 24.6 |  2.2 |  9.5 | 0.163 |\n| 133 |  8.4 | 27.2 |  2.1 |  5.7 | 0.151 |\n| 156 |  4.1 | 11.6 |  5.7 |  3.2 | 0.150 |\n|  77 | 27.5 |  1.6 | 20.7 |  6.9 | 0.139 |\n| 196 | 38.2 |  3.7 | 13.8 |  7.6 | 0.136 |\n| 109 | 13.1 |  0.4 | 25.6 |  5.3 | 0.136 |\n| 173 | 19.6 | 20.1 | 17.0 |  7.6 | 0.134 |\n| 137 | 25.6 | 39.0 |  9.3 |  9.5 | 0.129 |\n| 191 | 39.5 | 41.1 |  5.8 | 10.8 | 0.125 |\n\n",
            "text/latex": "A data.frame: 10 × 6\n\\begin{tabular}{llllll}\n X & TV & Radio & Newspaper & Sales & Profitability\\_Ratio\\\\\n <int> & <dbl> & <dbl> & <dbl> & <dbl> & <dbl>\\\\\n\\hline\n\t   9 &  8.6 &  2.1 &  1.0 &  4.8 & 0.410\\\\\n\t  67 & 31.5 & 24.6 &  2.2 &  9.5 & 0.163\\\\\n\t 133 &  8.4 & 27.2 &  2.1 &  5.7 & 0.151\\\\\n\t 156 &  4.1 & 11.6 &  5.7 &  3.2 & 0.150\\\\\n\t  77 & 27.5 &  1.6 & 20.7 &  6.9 & 0.139\\\\\n\t 196 & 38.2 &  3.7 & 13.8 &  7.6 & 0.136\\\\\n\t 109 & 13.1 &  0.4 & 25.6 &  5.3 & 0.136\\\\\n\t 173 & 19.6 & 20.1 & 17.0 &  7.6 & 0.134\\\\\n\t 137 & 25.6 & 39.0 &  9.3 &  9.5 & 0.129\\\\\n\t 191 & 39.5 & 41.1 &  5.8 & 10.8 & 0.125\\\\\n\\end{tabular}\n",
            "text/plain": [
              "   X   TV   Radio Newspaper Sales Profitability_Ratio\n",
              "1    9  8.6  2.1   1.0       4.8  0.410              \n",
              "2   67 31.5 24.6   2.2       9.5  0.163              \n",
              "3  133  8.4 27.2   2.1       5.7  0.151              \n",
              "4  156  4.1 11.6   5.7       3.2  0.150              \n",
              "5   77 27.5  1.6  20.7       6.9  0.139              \n",
              "6  196 38.2  3.7  13.8       7.6  0.136              \n",
              "7  109 13.1  0.4  25.6       5.3  0.136              \n",
              "8  173 19.6 20.1  17.0       7.6  0.134              \n",
              "9  137 25.6 39.0   9.3       9.5  0.129              \n",
              "10 191 39.5 41.1   5.8      10.8  0.125              "
            ]
          },
          "metadata": {}
        }
      ]
    },
    {
      "cell_type": "code",
      "source": [
        "# Get the top 10 most profitable campaigns based on the predicted sales\n",
        "top_profitable_pred = lr_data_profitable %>%\n",
        "  arrange(desc(ratio_pred)) %>%\n",
        "  mutate(Profitability_Ratio = round(ratio_pred, 3)) %>%\n",
        "  select(X, TV, Radio, Newspaper, Sales, Profitability_Ratio) %>%\n",
        "  head(10)\n",
        "\n",
        "top_profitable_pred"
      ],
      "metadata": {
        "colab": {
          "base_uri": "https://localhost:8080/",
          "height": 411
        },
        "id": "3eF3Zs6pfYU4",
        "outputId": "ac3e1435-8c23-4687-a691-eb15b3873458"
      },
      "execution_count": null,
      "outputs": [
        {
          "output_type": "display_data",
          "data": {
            "text/html": [
              "<table class=\"dataframe\">\n",
              "<caption>A data.frame: 10 × 6</caption>\n",
              "<thead>\n",
              "\t<tr><th></th><th scope=col>X</th><th scope=col>TV</th><th scope=col>Radio</th><th scope=col>Newspaper</th><th scope=col>Sales</th><th scope=col>Profitability_Ratio</th></tr>\n",
              "\t<tr><th></th><th scope=col>&lt;int&gt;</th><th scope=col>&lt;dbl&gt;</th><th scope=col>&lt;dbl&gt;</th><th scope=col>&lt;dbl&gt;</th><th scope=col>&lt;dbl&gt;</th><th scope=col>&lt;dbl&gt;</th></tr>\n",
              "</thead>\n",
              "<tbody>\n",
              "\t<tr><th scope=row>1</th><td>  9</td><td> 8.6</td><td> 2.1</td><td> 1.0</td><td> 4.8</td><td>0.312</td></tr>\n",
              "\t<tr><th scope=row>2</th><td>156</td><td> 4.1</td><td>11.6</td><td> 5.7</td><td> 3.2</td><td>0.243</td></tr>\n",
              "\t<tr><th scope=row>3</th><td>133</td><td> 8.4</td><td>27.2</td><td> 2.1</td><td> 5.7</td><td>0.220</td></tr>\n",
              "\t<tr><th scope=row>4</th><td>131</td><td> 0.7</td><td>39.6</td><td> 8.7</td><td> 1.6</td><td>0.208</td></tr>\n",
              "\t<tr><th scope=row>5</th><td> 79</td><td> 5.4</td><td>29.9</td><td> 9.4</td><td> 5.3</td><td>0.193</td></tr>\n",
              "\t<tr><th scope=row>6</th><td> 67</td><td>31.5</td><td>24.6</td><td> 2.2</td><td> 9.5</td><td>0.153</td></tr>\n",
              "\t<tr><th scope=row>7</th><td>137</td><td>25.6</td><td>39.0</td><td> 9.3</td><td> 9.5</td><td>0.153</td></tr>\n",
              "\t<tr><th scope=row>8</th><td>191</td><td>39.5</td><td>41.1</td><td> 5.8</td><td>10.8</td><td>0.143</td></tr>\n",
              "\t<tr><th scope=row>9</th><td>167</td><td>17.9</td><td>37.6</td><td>21.6</td><td> 8.0</td><td>0.138</td></tr>\n",
              "\t<tr><th scope=row>10</th><td>149</td><td>38.0</td><td>40.3</td><td>11.9</td><td>10.9</td><td>0.134</td></tr>\n",
              "</tbody>\n",
              "</table>\n"
            ],
            "text/markdown": "\nA data.frame: 10 × 6\n\n| <!--/--> | X &lt;int&gt; | TV &lt;dbl&gt; | Radio &lt;dbl&gt; | Newspaper &lt;dbl&gt; | Sales &lt;dbl&gt; | Profitability_Ratio &lt;dbl&gt; |\n|---|---|---|---|---|---|---|\n| 1 |   9 |  8.6 |  2.1 |  1.0 |  4.8 | 0.312 |\n| 2 | 156 |  4.1 | 11.6 |  5.7 |  3.2 | 0.243 |\n| 3 | 133 |  8.4 | 27.2 |  2.1 |  5.7 | 0.220 |\n| 4 | 131 |  0.7 | 39.6 |  8.7 |  1.6 | 0.208 |\n| 5 |  79 |  5.4 | 29.9 |  9.4 |  5.3 | 0.193 |\n| 6 |  67 | 31.5 | 24.6 |  2.2 |  9.5 | 0.153 |\n| 7 | 137 | 25.6 | 39.0 |  9.3 |  9.5 | 0.153 |\n| 8 | 191 | 39.5 | 41.1 |  5.8 | 10.8 | 0.143 |\n| 9 | 167 | 17.9 | 37.6 | 21.6 |  8.0 | 0.138 |\n| 10 | 149 | 38.0 | 40.3 | 11.9 | 10.9 | 0.134 |\n\n",
            "text/latex": "A data.frame: 10 × 6\n\\begin{tabular}{r|llllll}\n  & X & TV & Radio & Newspaper & Sales & Profitability\\_Ratio\\\\\n  & <int> & <dbl> & <dbl> & <dbl> & <dbl> & <dbl>\\\\\n\\hline\n\t1 &   9 &  8.6 &  2.1 &  1.0 &  4.8 & 0.312\\\\\n\t2 & 156 &  4.1 & 11.6 &  5.7 &  3.2 & 0.243\\\\\n\t3 & 133 &  8.4 & 27.2 &  2.1 &  5.7 & 0.220\\\\\n\t4 & 131 &  0.7 & 39.6 &  8.7 &  1.6 & 0.208\\\\\n\t5 &  79 &  5.4 & 29.9 &  9.4 &  5.3 & 0.193\\\\\n\t6 &  67 & 31.5 & 24.6 &  2.2 &  9.5 & 0.153\\\\\n\t7 & 137 & 25.6 & 39.0 &  9.3 &  9.5 & 0.153\\\\\n\t8 & 191 & 39.5 & 41.1 &  5.8 & 10.8 & 0.143\\\\\n\t9 & 167 & 17.9 & 37.6 & 21.6 &  8.0 & 0.138\\\\\n\t10 & 149 & 38.0 & 40.3 & 11.9 & 10.9 & 0.134\\\\\n\\end{tabular}\n",
            "text/plain": [
              "   X   TV   Radio Newspaper Sales Profitability_Ratio\n",
              "1    9  8.6  2.1   1.0       4.8  0.312              \n",
              "2  156  4.1 11.6   5.7       3.2  0.243              \n",
              "3  133  8.4 27.2   2.1       5.7  0.220              \n",
              "4  131  0.7 39.6   8.7       1.6  0.208              \n",
              "5   79  5.4 29.9   9.4       5.3  0.193              \n",
              "6   67 31.5 24.6   2.2       9.5  0.153              \n",
              "7  137 25.6 39.0   9.3       9.5  0.153              \n",
              "8  191 39.5 41.1   5.8      10.8  0.143              \n",
              "9  167 17.9 37.6  21.6       8.0  0.138              \n",
              "10 149 38.0 40.3  11.9      10.9  0.134              "
            ]
          },
          "metadata": {}
        }
      ]
    },
    {
      "cell_type": "code",
      "source": [
        "# Get the row numbers identical for both cases\n",
        "intersect(top_profitable_real$X, top_profitable_pred$X)"
      ],
      "metadata": {
        "colab": {
          "base_uri": "https://localhost:8080/",
          "height": 34
        },
        "id": "HAkpJn2PjmCo",
        "outputId": "6cb766cf-440a-4f8a-8e62-65b7e96e7c2b"
      },
      "execution_count": null,
      "outputs": [
        {
          "output_type": "display_data",
          "data": {
            "text/html": [
              "<style>\n",
              ".list-inline {list-style: none; margin:0; padding: 0}\n",
              ".list-inline>li {display: inline-block}\n",
              ".list-inline>li:not(:last-child)::after {content: \"\\00b7\"; padding: 0 .5ex}\n",
              "</style>\n",
              "<ol class=list-inline><li>9</li><li>67</li><li>133</li><li>156</li><li>137</li><li>191</li></ol>\n"
            ],
            "text/markdown": "1. 9\n2. 67\n3. 133\n4. 156\n5. 137\n6. 191\n\n\n",
            "text/latex": "\\begin{enumerate*}\n\\item 9\n\\item 67\n\\item 133\n\\item 156\n\\item 137\n\\item 191\n\\end{enumerate*}\n",
            "text/plain": [
              "[1]   9  67 133 156 137 191"
            ]
          },
          "metadata": {}
        }
      ]
    },
    {
      "cell_type": "markdown",
      "source": [
        "#### Conclusions"
      ],
      "metadata": {
        "id": "VQKyO5eK4ePS"
      }
    },
    {
      "cell_type": "markdown",
      "source": [
        "From the real data, campaign 9 notably achieved a very high profitability ratio of 0.41. The model-predicted top 10 profitable campaigns also show different investment strategies, although they differ from the actualy original data ones. For these campaigns, the result ratios range from 0.134 to 0.312, while the real data ones have a range of 0.125 to 0.163 (not including the campaign 9). Six campaigns (including 9, 67, 133, 137, 156, and 191) appear in both the actual and model-predicted top 10 lists."
      ],
      "metadata": {
        "id": "cksQ9wz44g55"
      }
    },
    {
      "cell_type": "markdown",
      "source": [
        "### Identify 10 Most Surprising Campaigns"
      ],
      "metadata": {
        "id": "ISmnrlEylLkQ"
      }
    },
    {
      "cell_type": "markdown",
      "source": [
        "#### Code"
      ],
      "metadata": {
        "id": "hPMU7UQi6Tzi"
      }
    },
    {
      "cell_type": "code",
      "source": [
        "# Calculate the difference between actual and predicted sales\n",
        "lr_data_surprise = lr_data_all %>%\n",
        "  mutate(prediction_difference = Sales - sales_predicted) %>%\n",
        "  round(3)\n",
        "head(lr_data_surprise)"
      ],
      "metadata": {
        "colab": {
          "base_uri": "https://localhost:8080/",
          "height": 286
        },
        "id": "Gl5JZIX7kZr8",
        "outputId": "315bdc8d-c4ef-44a0-d302-b5cde79229af"
      },
      "execution_count": null,
      "outputs": [
        {
          "output_type": "display_data",
          "data": {
            "text/html": [
              "<table class=\"dataframe\">\n",
              "<caption>A data.frame: 6 × 7</caption>\n",
              "<thead>\n",
              "\t<tr><th></th><th scope=col>X</th><th scope=col>TV</th><th scope=col>Radio</th><th scope=col>Newspaper</th><th scope=col>Sales</th><th scope=col>sales_predicted</th><th scope=col>prediction_difference</th></tr>\n",
              "\t<tr><th></th><th scope=col>&lt;dbl&gt;</th><th scope=col>&lt;dbl&gt;</th><th scope=col>&lt;dbl&gt;</th><th scope=col>&lt;dbl&gt;</th><th scope=col>&lt;dbl&gt;</th><th scope=col>&lt;dbl&gt;</th><th scope=col>&lt;dbl&gt;</th></tr>\n",
              "</thead>\n",
              "<tbody>\n",
              "\t<tr><th scope=row>1</th><td>1</td><td>230.1</td><td>37.8</td><td>69.2</td><td>22.1</td><td>20.516</td><td> 1.584</td></tr>\n",
              "\t<tr><th scope=row>2</th><td>2</td><td> 44.5</td><td>39.3</td><td>45.1</td><td>10.4</td><td>12.121</td><td>-1.721</td></tr>\n",
              "\t<tr><th scope=row>3</th><td>3</td><td> 17.2</td><td>45.9</td><td>69.3</td><td> 9.3</td><td>11.995</td><td>-2.695</td></tr>\n",
              "\t<tr><th scope=row>4</th><td>4</td><td>151.5</td><td>41.3</td><td>58.5</td><td>18.5</td><td>17.493</td><td> 1.007</td></tr>\n",
              "\t<tr><th scope=row>5</th><td>5</td><td>180.8</td><td>10.8</td><td>58.4</td><td>12.9</td><td>13.221</td><td>-0.321</td></tr>\n",
              "\t<tr><th scope=row>6</th><td>6</td><td>  8.7</td><td>48.9</td><td>75.0</td><td> 7.2</td><td>12.136</td><td>-4.936</td></tr>\n",
              "</tbody>\n",
              "</table>\n"
            ],
            "text/markdown": "\nA data.frame: 6 × 7\n\n| <!--/--> | X &lt;dbl&gt; | TV &lt;dbl&gt; | Radio &lt;dbl&gt; | Newspaper &lt;dbl&gt; | Sales &lt;dbl&gt; | sales_predicted &lt;dbl&gt; | prediction_difference &lt;dbl&gt; |\n|---|---|---|---|---|---|---|---|\n| 1 | 1 | 230.1 | 37.8 | 69.2 | 22.1 | 20.516 |  1.584 |\n| 2 | 2 |  44.5 | 39.3 | 45.1 | 10.4 | 12.121 | -1.721 |\n| 3 | 3 |  17.2 | 45.9 | 69.3 |  9.3 | 11.995 | -2.695 |\n| 4 | 4 | 151.5 | 41.3 | 58.5 | 18.5 | 17.493 |  1.007 |\n| 5 | 5 | 180.8 | 10.8 | 58.4 | 12.9 | 13.221 | -0.321 |\n| 6 | 6 |   8.7 | 48.9 | 75.0 |  7.2 | 12.136 | -4.936 |\n\n",
            "text/latex": "A data.frame: 6 × 7\n\\begin{tabular}{r|lllllll}\n  & X & TV & Radio & Newspaper & Sales & sales\\_predicted & prediction\\_difference\\\\\n  & <dbl> & <dbl> & <dbl> & <dbl> & <dbl> & <dbl> & <dbl>\\\\\n\\hline\n\t1 & 1 & 230.1 & 37.8 & 69.2 & 22.1 & 20.516 &  1.584\\\\\n\t2 & 2 &  44.5 & 39.3 & 45.1 & 10.4 & 12.121 & -1.721\\\\\n\t3 & 3 &  17.2 & 45.9 & 69.3 &  9.3 & 11.995 & -2.695\\\\\n\t4 & 4 & 151.5 & 41.3 & 58.5 & 18.5 & 17.493 &  1.007\\\\\n\t5 & 5 & 180.8 & 10.8 & 58.4 & 12.9 & 13.221 & -0.321\\\\\n\t6 & 6 &   8.7 & 48.9 & 75.0 &  7.2 & 12.136 & -4.936\\\\\n\\end{tabular}\n",
            "text/plain": [
              "  X TV    Radio Newspaper Sales sales_predicted prediction_difference\n",
              "1 1 230.1 37.8  69.2      22.1  20.516           1.584               \n",
              "2 2  44.5 39.3  45.1      10.4  12.121          -1.721               \n",
              "3 3  17.2 45.9  69.3       9.3  11.995          -2.695               \n",
              "4 4 151.5 41.3  58.5      18.5  17.493           1.007               \n",
              "5 5 180.8 10.8  58.4      12.9  13.221          -0.321               \n",
              "6 6   8.7 48.9  75.0       7.2  12.136          -4.936               "
            ]
          },
          "metadata": {}
        }
      ]
    },
    {
      "cell_type": "code",
      "source": [
        "# Get the top 5 campaigns with the highest positive difference\n",
        "top_positive_surprise = lr_data_surprise %>%\n",
        "  filter(prediction_difference > 0) %>%\n",
        "  arrange(desc(prediction_difference)) %>%\n",
        "  head(n = 5)\n",
        "\n",
        "top_positive_surprise"
      ],
      "metadata": {
        "colab": {
          "base_uri": "https://localhost:8080/",
          "height": 255
        },
        "id": "6mQcT3IgnISM",
        "outputId": "8a30ac6c-e8bb-43bb-a48d-0c70a0432463"
      },
      "execution_count": null,
      "outputs": [
        {
          "output_type": "display_data",
          "data": {
            "text/html": [
              "<table class=\"dataframe\">\n",
              "<caption>A data.frame: 5 × 7</caption>\n",
              "<thead>\n",
              "\t<tr><th></th><th scope=col>X</th><th scope=col>TV</th><th scope=col>Radio</th><th scope=col>Newspaper</th><th scope=col>Sales</th><th scope=col>sales_predicted</th><th scope=col>prediction_difference</th></tr>\n",
              "\t<tr><th></th><th scope=col>&lt;dbl&gt;</th><th scope=col>&lt;dbl&gt;</th><th scope=col>&lt;dbl&gt;</th><th scope=col>&lt;dbl&gt;</th><th scope=col>&lt;dbl&gt;</th><th scope=col>&lt;dbl&gt;</th><th scope=col>&lt;dbl&gt;</th></tr>\n",
              "</thead>\n",
              "<tbody>\n",
              "\t<tr><th scope=row>1</th><td> 92</td><td> 28.6</td><td> 1.5</td><td>33.0</td><td> 7.3</td><td> 4.399</td><td>2.901</td></tr>\n",
              "\t<tr><th scope=row>2</th><td>118</td><td> 76.4</td><td> 0.8</td><td>14.8</td><td> 9.4</td><td> 6.568</td><td>2.832</td></tr>\n",
              "\t<tr><th scope=row>3</th><td> 77</td><td> 27.5</td><td> 1.6</td><td>20.7</td><td> 6.9</td><td> 4.399</td><td>2.501</td></tr>\n",
              "\t<tr><th scope=row>4</th><td> 56</td><td>198.9</td><td>49.4</td><td>60.0</td><td>23.7</td><td>21.221</td><td>2.479</td></tr>\n",
              "\t<tr><th scope=row>5</th><td> 61</td><td> 53.5</td><td> 2.0</td><td>21.4</td><td> 8.1</td><td> 5.695</td><td>2.405</td></tr>\n",
              "</tbody>\n",
              "</table>\n"
            ],
            "text/markdown": "\nA data.frame: 5 × 7\n\n| <!--/--> | X &lt;dbl&gt; | TV &lt;dbl&gt; | Radio &lt;dbl&gt; | Newspaper &lt;dbl&gt; | Sales &lt;dbl&gt; | sales_predicted &lt;dbl&gt; | prediction_difference &lt;dbl&gt; |\n|---|---|---|---|---|---|---|---|\n| 1 |  92 |  28.6 |  1.5 | 33.0 |  7.3 |  4.399 | 2.901 |\n| 2 | 118 |  76.4 |  0.8 | 14.8 |  9.4 |  6.568 | 2.832 |\n| 3 |  77 |  27.5 |  1.6 | 20.7 |  6.9 |  4.399 | 2.501 |\n| 4 |  56 | 198.9 | 49.4 | 60.0 | 23.7 | 21.221 | 2.479 |\n| 5 |  61 |  53.5 |  2.0 | 21.4 |  8.1 |  5.695 | 2.405 |\n\n",
            "text/latex": "A data.frame: 5 × 7\n\\begin{tabular}{r|lllllll}\n  & X & TV & Radio & Newspaper & Sales & sales\\_predicted & prediction\\_difference\\\\\n  & <dbl> & <dbl> & <dbl> & <dbl> & <dbl> & <dbl> & <dbl>\\\\\n\\hline\n\t1 &  92 &  28.6 &  1.5 & 33.0 &  7.3 &  4.399 & 2.901\\\\\n\t2 & 118 &  76.4 &  0.8 & 14.8 &  9.4 &  6.568 & 2.832\\\\\n\t3 &  77 &  27.5 &  1.6 & 20.7 &  6.9 &  4.399 & 2.501\\\\\n\t4 &  56 & 198.9 & 49.4 & 60.0 & 23.7 & 21.221 & 2.479\\\\\n\t5 &  61 &  53.5 &  2.0 & 21.4 &  8.1 &  5.695 & 2.405\\\\\n\\end{tabular}\n",
            "text/plain": [
              "  X   TV    Radio Newspaper Sales sales_predicted prediction_difference\n",
              "1  92  28.6  1.5  33.0       7.3   4.399          2.901                \n",
              "2 118  76.4  0.8  14.8       9.4   6.568          2.832                \n",
              "3  77  27.5  1.6  20.7       6.9   4.399          2.501                \n",
              "4  56 198.9 49.4  60.0      23.7  21.221          2.479                \n",
              "5  61  53.5  2.0  21.4       8.1   5.695          2.405                "
            ]
          },
          "metadata": {}
        }
      ]
    },
    {
      "cell_type": "code",
      "source": [
        "# Get the top 5 campaigns with the highest negative difference\n",
        "top_negative_surprise = lr_data_surprise %>%\n",
        "  filter(prediction_difference < 0) %>%\n",
        "  arrange(prediction_difference) %>%\n",
        "  head(n = 5)\n",
        "\n",
        "top_negative_surprise"
      ],
      "metadata": {
        "colab": {
          "base_uri": "https://localhost:8080/",
          "height": 255
        },
        "id": "xCYQ1sz0nSAU",
        "outputId": "f6d9ce4a-e3b1-4c61-ec3f-f1805e79b4d2"
      },
      "execution_count": null,
      "outputs": [
        {
          "output_type": "display_data",
          "data": {
            "text/html": [
              "<table class=\"dataframe\">\n",
              "<caption>A data.frame: 5 × 7</caption>\n",
              "<thead>\n",
              "\t<tr><th></th><th scope=col>X</th><th scope=col>TV</th><th scope=col>Radio</th><th scope=col>Newspaper</th><th scope=col>Sales</th><th scope=col>sales_predicted</th><th scope=col>prediction_difference</th></tr>\n",
              "\t<tr><th></th><th scope=col>&lt;dbl&gt;</th><th scope=col>&lt;dbl&gt;</th><th scope=col>&lt;dbl&gt;</th><th scope=col>&lt;dbl&gt;</th><th scope=col>&lt;dbl&gt;</th><th scope=col>&lt;dbl&gt;</th><th scope=col>&lt;dbl&gt;</th></tr>\n",
              "</thead>\n",
              "<tbody>\n",
              "\t<tr><th scope=row>1</th><td>131</td><td>  0.7</td><td>39.6</td><td> 8.7</td><td> 1.6</td><td>10.211</td><td>-8.611</td></tr>\n",
              "\t<tr><th scope=row>2</th><td>  6</td><td>  8.7</td><td>48.9</td><td>75.0</td><td> 7.2</td><td>12.136</td><td>-4.936</td></tr>\n",
              "\t<tr><th scope=row>3</th><td> 36</td><td>290.7</td><td> 4.1</td><td> 8.5</td><td>12.8</td><td>17.284</td><td>-4.484</td></tr>\n",
              "\t<tr><th scope=row>4</th><td>179</td><td>276.7</td><td> 2.3</td><td>23.7</td><td>11.8</td><td>16.251</td><td>-4.451</td></tr>\n",
              "\t<tr><th scope=row>5</th><td> 26</td><td>262.9</td><td> 3.5</td><td>19.5</td><td>12.0</td><td>15.835</td><td>-3.835</td></tr>\n",
              "</tbody>\n",
              "</table>\n"
            ],
            "text/markdown": "\nA data.frame: 5 × 7\n\n| <!--/--> | X &lt;dbl&gt; | TV &lt;dbl&gt; | Radio &lt;dbl&gt; | Newspaper &lt;dbl&gt; | Sales &lt;dbl&gt; | sales_predicted &lt;dbl&gt; | prediction_difference &lt;dbl&gt; |\n|---|---|---|---|---|---|---|---|\n| 1 | 131 |   0.7 | 39.6 |  8.7 |  1.6 | 10.211 | -8.611 |\n| 2 |   6 |   8.7 | 48.9 | 75.0 |  7.2 | 12.136 | -4.936 |\n| 3 |  36 | 290.7 |  4.1 |  8.5 | 12.8 | 17.284 | -4.484 |\n| 4 | 179 | 276.7 |  2.3 | 23.7 | 11.8 | 16.251 | -4.451 |\n| 5 |  26 | 262.9 |  3.5 | 19.5 | 12.0 | 15.835 | -3.835 |\n\n",
            "text/latex": "A data.frame: 5 × 7\n\\begin{tabular}{r|lllllll}\n  & X & TV & Radio & Newspaper & Sales & sales\\_predicted & prediction\\_difference\\\\\n  & <dbl> & <dbl> & <dbl> & <dbl> & <dbl> & <dbl> & <dbl>\\\\\n\\hline\n\t1 & 131 &   0.7 & 39.6 &  8.7 &  1.6 & 10.211 & -8.611\\\\\n\t2 &   6 &   8.7 & 48.9 & 75.0 &  7.2 & 12.136 & -4.936\\\\\n\t3 &  36 & 290.7 &  4.1 &  8.5 & 12.8 & 17.284 & -4.484\\\\\n\t4 & 179 & 276.7 &  2.3 & 23.7 & 11.8 & 16.251 & -4.451\\\\\n\t5 &  26 & 262.9 &  3.5 & 19.5 & 12.0 & 15.835 & -3.835\\\\\n\\end{tabular}\n",
            "text/plain": [
              "  X   TV    Radio Newspaper Sales sales_predicted prediction_difference\n",
              "1 131   0.7 39.6   8.7       1.6  10.211          -8.611               \n",
              "2   6   8.7 48.9  75.0       7.2  12.136          -4.936               \n",
              "3  36 290.7  4.1   8.5      12.8  17.284          -4.484               \n",
              "4 179 276.7  2.3  23.7      11.8  16.251          -4.451               \n",
              "5  26 262.9  3.5  19.5      12.0  15.835          -3.835               "
            ]
          },
          "metadata": {}
        }
      ]
    },
    {
      "cell_type": "markdown",
      "source": [
        "#### Conclusions"
      ],
      "metadata": {
        "id": "k21opk6k6VtI"
      }
    },
    {
      "cell_type": "markdown",
      "source": [
        "The campaigns that performed significantly better than predicted, such as 92 and 118, achieved actual sales that were approximately \\$2900 to \\$2832 higher than the model's prediction. On the other hand, campaigns like 131 and 6 demonstrated an underperformance, with actual sales falling short of predictions by as much as \\$8611 and \\$4935. These differences highlight instances where the model either overestimated or significantly underestimated campaign effectiveness."
      ],
      "metadata": {
        "id": "jNwN5tHe6Wnu"
      }
    },
    {
      "cell_type": "markdown",
      "source": [
        "### Budget Optimization"
      ],
      "metadata": {
        "id": "JhhxT2-DoNwE"
      }
    },
    {
      "cell_type": "markdown",
      "source": [
        "#### Code"
      ],
      "metadata": {
        "id": "1Bp3p5NY8g_J"
      }
    },
    {
      "cell_type": "code",
      "source": [
        "# Define budget parameters (in thousands of dollars)\n",
        "total_budget = 50\n",
        "min_investment_per_medium = 5\n",
        "investment_step = 5\n",
        "\n",
        "all_investment_scenarios = list()"
      ],
      "metadata": {
        "id": "6kWg3HVtpnh-"
      },
      "execution_count": null,
      "outputs": []
    },
    {
      "cell_type": "code",
      "source": [
        "# Calculate TV investment\n",
        "# Max = total_budget - 2 * min_investment_per_medium since there are three mediums total\n",
        "tv_investment_levels = seq(from = min_investment_per_medium,\n",
        "                           to = total_budget - 2 * min_investment_per_medium,\n",
        "                           by = investment_step)\n",
        "tv_investment_levels"
      ],
      "metadata": {
        "colab": {
          "base_uri": "https://localhost:8080/",
          "height": 34
        },
        "id": "zu1MQEzUpyFG",
        "outputId": "a68aa67d-f4d3-4328-d2f6-719cbf85fa58"
      },
      "execution_count": null,
      "outputs": [
        {
          "output_type": "display_data",
          "data": {
            "text/html": [
              "<style>\n",
              ".list-inline {list-style: none; margin:0; padding: 0}\n",
              ".list-inline>li {display: inline-block}\n",
              ".list-inline>li:not(:last-child)::after {content: \"\\00b7\"; padding: 0 .5ex}\n",
              "</style>\n",
              "<ol class=list-inline><li>5</li><li>10</li><li>15</li><li>20</li><li>25</li><li>30</li><li>35</li><li>40</li></ol>\n"
            ],
            "text/markdown": "1. 5\n2. 10\n3. 15\n4. 20\n5. 25\n6. 30\n7. 35\n8. 40\n\n\n",
            "text/latex": "\\begin{enumerate*}\n\\item 5\n\\item 10\n\\item 15\n\\item 20\n\\item 25\n\\item 30\n\\item 35\n\\item 40\n\\end{enumerate*}\n",
            "text/plain": [
              "[1]  5 10 15 20 25 30 35 40"
            ]
          },
          "metadata": {}
        }
      ]
    },
    {
      "cell_type": "code",
      "source": [
        "# Iterate through all possible valid combinations of investments\n",
        "for (tv_invest in tv_investment_levels) {\n",
        "  # Calculate Radio investment\n",
        "  # Max = total_budget - tv_invest - min_investment_per_medium\n",
        "  radio_investment_levels = seq(from = min_investment_per_medium,\n",
        "                                to = total_budget - tv_invest - min_investment_per_medium,\n",
        "                                by = investment_step)\n",
        "\n",
        "  for (radio_invest in radio_investment_levels) {\n",
        "    # Calculate Newspaper investment\n",
        "    newspaper_invest = total_budget - tv_invest - radio_invest\n",
        "\n",
        "    # Create a data frame for the current investment scenario\n",
        "    current_scenario_df = data.frame(\n",
        "      TV = tv_invest,\n",
        "      Radio = radio_invest,\n",
        "      Newspaper = newspaper_invest\n",
        "    )\n",
        "\n",
        "    # Predict sales\n",
        "    predicted_sales = predict(last_lr_model, newdata = current_scenario_df)\n",
        "\n",
        "    # Save the scenario and its predicted sales\n",
        "    current_scenario_df$PredictedSales = predicted_sales\n",
        "    all_investment_scenarios[[length(all_investment_scenarios) + 1]] = current_scenario_df\n",
        "  }\n",
        "}"
      ],
      "metadata": {
        "id": "XoMEeirvqUlG"
      },
      "execution_count": null,
      "outputs": []
    },
    {
      "cell_type": "code",
      "source": [
        "length(all_investment_scenarios)"
      ],
      "metadata": {
        "colab": {
          "base_uri": "https://localhost:8080/",
          "height": 34
        },
        "id": "pXul59S5rvpa",
        "outputId": "5b3032bd-b331-4658-d04f-8a8052773e77"
      },
      "execution_count": null,
      "outputs": [
        {
          "output_type": "display_data",
          "data": {
            "text/html": [
              "36"
            ],
            "text/markdown": "36",
            "text/latex": "36",
            "text/plain": [
              "[1] 36"
            ]
          },
          "metadata": {}
        }
      ]
    },
    {
      "cell_type": "code",
      "source": [
        "all_scenarios_df = bind_rows(all_investment_scenarios)\n",
        "head(all_scenarios_df)"
      ],
      "metadata": {
        "colab": {
          "base_uri": "https://localhost:8080/",
          "height": 286
        },
        "id": "gxtzXH1IrUB0",
        "outputId": "a67c5e8b-ffd0-4cca-c66f-1eb8c4a0717e"
      },
      "execution_count": null,
      "outputs": [
        {
          "output_type": "display_data",
          "data": {
            "text/html": [
              "<table class=\"dataframe\">\n",
              "<caption>A data.frame: 6 × 4</caption>\n",
              "<thead>\n",
              "\t<tr><th></th><th scope=col>TV</th><th scope=col>Radio</th><th scope=col>Newspaper</th><th scope=col>PredictedSales</th></tr>\n",
              "\t<tr><th></th><th scope=col>&lt;dbl&gt;</th><th scope=col>&lt;dbl&gt;</th><th scope=col>&lt;dbl&gt;</th><th scope=col>&lt;dbl&gt;</th></tr>\n",
              "</thead>\n",
              "<tbody>\n",
              "\t<tr><th scope=row>1</th><td>5</td><td> 5</td><td>40</td><td>3.918535</td></tr>\n",
              "\t<tr><th scope=row>2</th><td>5</td><td>10</td><td>35</td><td>4.858291</td></tr>\n",
              "\t<tr><th scope=row>3</th><td>5</td><td>15</td><td>30</td><td>5.798047</td></tr>\n",
              "\t<tr><th scope=row>4</th><td>5</td><td>20</td><td>25</td><td>6.737803</td></tr>\n",
              "\t<tr><th scope=row>5</th><td>5</td><td>25</td><td>20</td><td>7.677558</td></tr>\n",
              "\t<tr><th scope=row>6</th><td>5</td><td>30</td><td>15</td><td>8.617314</td></tr>\n",
              "</tbody>\n",
              "</table>\n"
            ],
            "text/markdown": "\nA data.frame: 6 × 4\n\n| <!--/--> | TV &lt;dbl&gt; | Radio &lt;dbl&gt; | Newspaper &lt;dbl&gt; | PredictedSales &lt;dbl&gt; |\n|---|---|---|---|---|\n| 1 | 5 |  5 | 40 | 3.918535 |\n| 2 | 5 | 10 | 35 | 4.858291 |\n| 3 | 5 | 15 | 30 | 5.798047 |\n| 4 | 5 | 20 | 25 | 6.737803 |\n| 5 | 5 | 25 | 20 | 7.677558 |\n| 6 | 5 | 30 | 15 | 8.617314 |\n\n",
            "text/latex": "A data.frame: 6 × 4\n\\begin{tabular}{r|llll}\n  & TV & Radio & Newspaper & PredictedSales\\\\\n  & <dbl> & <dbl> & <dbl> & <dbl>\\\\\n\\hline\n\t1 & 5 &  5 & 40 & 3.918535\\\\\n\t2 & 5 & 10 & 35 & 4.858291\\\\\n\t3 & 5 & 15 & 30 & 5.798047\\\\\n\t4 & 5 & 20 & 25 & 6.737803\\\\\n\t5 & 5 & 25 & 20 & 7.677558\\\\\n\t6 & 5 & 30 & 15 & 8.617314\\\\\n\\end{tabular}\n",
            "text/plain": [
              "  TV Radio Newspaper PredictedSales\n",
              "1 5   5    40        3.918535      \n",
              "2 5  10    35        4.858291      \n",
              "3 5  15    30        5.798047      \n",
              "4 5  20    25        6.737803      \n",
              "5 5  25    20        7.677558      \n",
              "6 5  30    15        8.617314      "
            ]
          },
          "metadata": {}
        }
      ]
    },
    {
      "cell_type": "code",
      "source": [
        "optimal_investment_scenario = all_scenarios_df %>%\n",
        "  arrange(desc(PredictedSales)) %>%\n",
        "  round(3) %>%\n",
        "  head(n = 5)\n",
        "\n",
        "optimal_investment_scenario"
      ],
      "metadata": {
        "colab": {
          "base_uri": "https://localhost:8080/",
          "height": 255
        },
        "id": "iLKa1t7GrzuY",
        "outputId": "2d00fa67-fcda-461d-8a05-861449a6caa6"
      },
      "execution_count": null,
      "outputs": [
        {
          "output_type": "display_data",
          "data": {
            "text/html": [
              "<table class=\"dataframe\">\n",
              "<caption>A data.frame: 5 × 4</caption>\n",
              "<thead>\n",
              "\t<tr><th></th><th scope=col>TV</th><th scope=col>Radio</th><th scope=col>Newspaper</th><th scope=col>PredictedSales</th></tr>\n",
              "\t<tr><th></th><th scope=col>&lt;dbl&gt;</th><th scope=col>&lt;dbl&gt;</th><th scope=col>&lt;dbl&gt;</th><th scope=col>&lt;dbl&gt;</th></tr>\n",
              "</thead>\n",
              "<tbody>\n",
              "\t<tr><th scope=row>1</th><td> 5</td><td>40</td><td> 5</td><td>10.497</td></tr>\n",
              "\t<tr><th scope=row>2</th><td>10</td><td>35</td><td> 5</td><td> 9.806</td></tr>\n",
              "\t<tr><th scope=row>3</th><td> 5</td><td>35</td><td>10</td><td> 9.557</td></tr>\n",
              "\t<tr><th scope=row>4</th><td>15</td><td>30</td><td> 5</td><td> 9.114</td></tr>\n",
              "\t<tr><th scope=row>5</th><td>10</td><td>30</td><td>10</td><td> 8.866</td></tr>\n",
              "</tbody>\n",
              "</table>\n"
            ],
            "text/markdown": "\nA data.frame: 5 × 4\n\n| <!--/--> | TV &lt;dbl&gt; | Radio &lt;dbl&gt; | Newspaper &lt;dbl&gt; | PredictedSales &lt;dbl&gt; |\n|---|---|---|---|---|\n| 1 |  5 | 40 |  5 | 10.497 |\n| 2 | 10 | 35 |  5 |  9.806 |\n| 3 |  5 | 35 | 10 |  9.557 |\n| 4 | 15 | 30 |  5 |  9.114 |\n| 5 | 10 | 30 | 10 |  8.866 |\n\n",
            "text/latex": "A data.frame: 5 × 4\n\\begin{tabular}{r|llll}\n  & TV & Radio & Newspaper & PredictedSales\\\\\n  & <dbl> & <dbl> & <dbl> & <dbl>\\\\\n\\hline\n\t1 &  5 & 40 &  5 & 10.497\\\\\n\t2 & 10 & 35 &  5 &  9.806\\\\\n\t3 &  5 & 35 & 10 &  9.557\\\\\n\t4 & 15 & 30 &  5 &  9.114\\\\\n\t5 & 10 & 30 & 10 &  8.866\\\\\n\\end{tabular}\n",
            "text/plain": [
              "  TV Radio Newspaper PredictedSales\n",
              "1  5 40     5        10.497        \n",
              "2 10 35     5         9.806        \n",
              "3  5 35    10         9.557        \n",
              "4 15 30     5         9.114        \n",
              "5 10 30    10         8.866        "
            ]
          },
          "metadata": {}
        }
      ]
    },
    {
      "cell_type": "markdown",
      "source": [
        "#### Conclusions"
      ],
      "metadata": {
        "id": "oBkYhUOP8eTg"
      }
    },
    {
      "cell_type": "markdown",
      "source": [
        ":Based on the model's predictions, the optimal investment strategy allocates \\$5000 to `TV` variable, \\$40000 to `Radio`, and \\$5000 to `Newspaper`, which is predicted to output the highest sales at approximately \\$10497. Other high-performing strategies also favor `Radio` investment, aligning with previously calculated model coefficients in *Plot Coefficients* section (`Radio` variable coefficients being the highest). This indicates that maximizing investment in `Radio` is the most effective approach.\n",
        "\n",
        "\n"
      ],
      "metadata": {
        "id": "DC1y2pQf8fzI"
      }
    },
    {
      "cell_type": "markdown",
      "metadata": {
        "id": "YrMQGOdu55vj"
      },
      "source": [
        "### An End-to-End example 👀\n",
        "(but please, in your solution do not do like me and use more than one cell to organize the code, when possible 🙂)"
      ]
    },
    {
      "cell_type": "markdown",
      "metadata": {
        "id": "Yef4UqDppaYP"
      },
      "source": [
        "## 🚨 Decision Tree (Your solution here)\n"
      ]
    },
    {
      "cell_type": "code",
      "source": [
        "dt_data_orig = read.csv(\"loan_approval_dataset.csv\", stringsAsFactors = TRUE)\n",
        "dt_data = select(dt_data_orig, -loan_id)\n",
        "head(dt_data)"
      ],
      "metadata": {
        "colab": {
          "base_uri": "https://localhost:8080/",
          "height": 341
        },
        "id": "mHNZcb5fNiC-",
        "outputId": "738955cb-b011-468a-aba4-8462b4e293e6"
      },
      "execution_count": null,
      "outputs": [
        {
          "output_type": "display_data",
          "data": {
            "text/html": [
              "<table class=\"dataframe\">\n",
              "<caption>A data.frame: 6 × 12</caption>\n",
              "<thead>\n",
              "\t<tr><th></th><th scope=col>no_of_dependents</th><th scope=col>education</th><th scope=col>self_employed</th><th scope=col>income_annum</th><th scope=col>loan_amount</th><th scope=col>loan_term</th><th scope=col>cibil_score</th><th scope=col>residential_assets_value</th><th scope=col>commercial_assets_value</th><th scope=col>luxury_assets_value</th><th scope=col>bank_asset_value</th><th scope=col>loan_status</th></tr>\n",
              "\t<tr><th></th><th scope=col>&lt;int&gt;</th><th scope=col>&lt;fct&gt;</th><th scope=col>&lt;fct&gt;</th><th scope=col>&lt;int&gt;</th><th scope=col>&lt;int&gt;</th><th scope=col>&lt;int&gt;</th><th scope=col>&lt;int&gt;</th><th scope=col>&lt;int&gt;</th><th scope=col>&lt;int&gt;</th><th scope=col>&lt;int&gt;</th><th scope=col>&lt;int&gt;</th><th scope=col>&lt;fct&gt;</th></tr>\n",
              "</thead>\n",
              "<tbody>\n",
              "\t<tr><th scope=row>1</th><td>2</td><td> Graduate    </td><td> No </td><td>9600000</td><td>29900000</td><td>12</td><td>778</td><td> 2400000</td><td>17600000</td><td>22700000</td><td> 8000000</td><td> Approved</td></tr>\n",
              "\t<tr><th scope=row>2</th><td>0</td><td> Not Graduate</td><td> Yes</td><td>4100000</td><td>12200000</td><td> 8</td><td>417</td><td> 2700000</td><td> 2200000</td><td> 8800000</td><td> 3300000</td><td> Rejected</td></tr>\n",
              "\t<tr><th scope=row>3</th><td>3</td><td> Graduate    </td><td> No </td><td>9100000</td><td>29700000</td><td>20</td><td>506</td><td> 7100000</td><td> 4500000</td><td>33300000</td><td>12800000</td><td> Rejected</td></tr>\n",
              "\t<tr><th scope=row>4</th><td>3</td><td> Graduate    </td><td> No </td><td>8200000</td><td>30700000</td><td> 8</td><td>467</td><td>18200000</td><td> 3300000</td><td>23300000</td><td> 7900000</td><td> Rejected</td></tr>\n",
              "\t<tr><th scope=row>5</th><td>5</td><td> Not Graduate</td><td> Yes</td><td>9800000</td><td>24200000</td><td>20</td><td>382</td><td>12400000</td><td> 8200000</td><td>29400000</td><td> 5000000</td><td> Rejected</td></tr>\n",
              "\t<tr><th scope=row>6</th><td>0</td><td> Graduate    </td><td> Yes</td><td>4800000</td><td>13500000</td><td>10</td><td>319</td><td> 6800000</td><td> 8300000</td><td>13700000</td><td> 5100000</td><td> Rejected</td></tr>\n",
              "</tbody>\n",
              "</table>\n"
            ],
            "text/markdown": "\nA data.frame: 6 × 12\n\n| <!--/--> | no_of_dependents &lt;int&gt; | education &lt;fct&gt; | self_employed &lt;fct&gt; | income_annum &lt;int&gt; | loan_amount &lt;int&gt; | loan_term &lt;int&gt; | cibil_score &lt;int&gt; | residential_assets_value &lt;int&gt; | commercial_assets_value &lt;int&gt; | luxury_assets_value &lt;int&gt; | bank_asset_value &lt;int&gt; | loan_status &lt;fct&gt; |\n|---|---|---|---|---|---|---|---|---|---|---|---|---|\n| 1 | 2 |  Graduate     |  No  | 9600000 | 29900000 | 12 | 778 |  2400000 | 17600000 | 22700000 |  8000000 |  Approved |\n| 2 | 0 |  Not Graduate |  Yes | 4100000 | 12200000 |  8 | 417 |  2700000 |  2200000 |  8800000 |  3300000 |  Rejected |\n| 3 | 3 |  Graduate     |  No  | 9100000 | 29700000 | 20 | 506 |  7100000 |  4500000 | 33300000 | 12800000 |  Rejected |\n| 4 | 3 |  Graduate     |  No  | 8200000 | 30700000 |  8 | 467 | 18200000 |  3300000 | 23300000 |  7900000 |  Rejected |\n| 5 | 5 |  Not Graduate |  Yes | 9800000 | 24200000 | 20 | 382 | 12400000 |  8200000 | 29400000 |  5000000 |  Rejected |\n| 6 | 0 |  Graduate     |  Yes | 4800000 | 13500000 | 10 | 319 |  6800000 |  8300000 | 13700000 |  5100000 |  Rejected |\n\n",
            "text/latex": "A data.frame: 6 × 12\n\\begin{tabular}{r|llllllllllll}\n  & no\\_of\\_dependents & education & self\\_employed & income\\_annum & loan\\_amount & loan\\_term & cibil\\_score & residential\\_assets\\_value & commercial\\_assets\\_value & luxury\\_assets\\_value & bank\\_asset\\_value & loan\\_status\\\\\n  & <int> & <fct> & <fct> & <int> & <int> & <int> & <int> & <int> & <int> & <int> & <int> & <fct>\\\\\n\\hline\n\t1 & 2 &  Graduate     &  No  & 9600000 & 29900000 & 12 & 778 &  2400000 & 17600000 & 22700000 &  8000000 &  Approved\\\\\n\t2 & 0 &  Not Graduate &  Yes & 4100000 & 12200000 &  8 & 417 &  2700000 &  2200000 &  8800000 &  3300000 &  Rejected\\\\\n\t3 & 3 &  Graduate     &  No  & 9100000 & 29700000 & 20 & 506 &  7100000 &  4500000 & 33300000 & 12800000 &  Rejected\\\\\n\t4 & 3 &  Graduate     &  No  & 8200000 & 30700000 &  8 & 467 & 18200000 &  3300000 & 23300000 &  7900000 &  Rejected\\\\\n\t5 & 5 &  Not Graduate &  Yes & 9800000 & 24200000 & 20 & 382 & 12400000 &  8200000 & 29400000 &  5000000 &  Rejected\\\\\n\t6 & 0 &  Graduate     &  Yes & 4800000 & 13500000 & 10 & 319 &  6800000 &  8300000 & 13700000 &  5100000 &  Rejected\\\\\n\\end{tabular}\n",
            "text/plain": [
              "  no_of_dependents education     self_employed income_annum loan_amount\n",
              "1 2                 Graduate      No           9600000      29900000   \n",
              "2 0                 Not Graduate  Yes          4100000      12200000   \n",
              "3 3                 Graduate      No           9100000      29700000   \n",
              "4 3                 Graduate      No           8200000      30700000   \n",
              "5 5                 Not Graduate  Yes          9800000      24200000   \n",
              "6 0                 Graduate      Yes          4800000      13500000   \n",
              "  loan_term cibil_score residential_assets_value commercial_assets_value\n",
              "1 12        778          2400000                 17600000               \n",
              "2  8        417          2700000                  2200000               \n",
              "3 20        506          7100000                  4500000               \n",
              "4  8        467         18200000                  3300000               \n",
              "5 20        382         12400000                  8200000               \n",
              "6 10        319          6800000                  8300000               \n",
              "  luxury_assets_value bank_asset_value loan_status\n",
              "1 22700000             8000000          Approved  \n",
              "2  8800000             3300000          Rejected  \n",
              "3 33300000            12800000          Rejected  \n",
              "4 23300000             7900000          Rejected  \n",
              "5 29400000             5000000          Rejected  \n",
              "6 13700000             5100000          Rejected  "
            ]
          },
          "metadata": {}
        }
      ]
    },
    {
      "cell_type": "code",
      "source": [
        "str(dt_data)"
      ],
      "metadata": {
        "colab": {
          "base_uri": "https://localhost:8080/"
        },
        "id": "D_-dq0XpNsbj",
        "outputId": "61076f62-d9c4-45fd-ec18-734ea0f53c79"
      },
      "execution_count": null,
      "outputs": [
        {
          "output_type": "stream",
          "name": "stdout",
          "text": [
            "'data.frame':\t4269 obs. of  12 variables:\n",
            " $ no_of_dependents        : int  2 0 3 3 5 0 5 2 0 5 ...\n",
            " $ education               : Factor w/ 2 levels \" Graduate\",\" Not Graduate\": 1 2 1 1 2 1 1 1 1 2 ...\n",
            " $ self_employed           : Factor w/ 2 levels \" No\",\" Yes\": 1 2 1 1 2 2 1 2 2 1 ...\n",
            " $ income_annum            : int  9600000 4100000 9100000 8200000 9800000 4800000 8700000 5700000 800000 1100000 ...\n",
            " $ loan_amount             : int  29900000 12200000 29700000 30700000 24200000 13500000 33000000 15000000 2200000 4300000 ...\n",
            " $ loan_term               : int  12 8 20 8 20 10 4 20 20 10 ...\n",
            " $ cibil_score             : int  778 417 506 467 382 319 678 382 782 388 ...\n",
            " $ residential_assets_value: int  2400000 2700000 7100000 18200000 12400000 6800000 22500000 13200000 1300000 3200000 ...\n",
            " $ commercial_assets_value : int  17600000 2200000 4500000 3300000 8200000 8300000 14800000 5700000 800000 1400000 ...\n",
            " $ luxury_assets_value     : int  22700000 8800000 33300000 23300000 29400000 13700000 29200000 11800000 2800000 3300000 ...\n",
            " $ bank_asset_value        : int  8000000 3300000 12800000 7900000 5000000 5100000 4300000 6000000 600000 1600000 ...\n",
            " $ loan_status             : Factor w/ 2 levels \" Approved\",\" Rejected\": 1 2 2 2 2 2 1 2 1 2 ...\n"
          ]
        }
      ]
    },
    {
      "cell_type": "code",
      "source": [
        "summary(dt_data)"
      ],
      "metadata": {
        "colab": {
          "base_uri": "https://localhost:8080/",
          "height": 503
        },
        "id": "hyVfyjgKNtRD",
        "outputId": "e03edbbb-b70f-48c6-a9d5-af4e99bf9829"
      },
      "execution_count": null,
      "outputs": [
        {
          "output_type": "display_data",
          "data": {
            "text/plain": [
              " no_of_dependents         education    self_employed  income_annum    \n",
              " Min.   :0.000     Graduate    :2144    No :2119     Min.   : 200000  \n",
              " 1st Qu.:1.000     Not Graduate:2125    Yes:2150     1st Qu.:2700000  \n",
              " Median :3.000                                       Median :5100000  \n",
              " Mean   :2.499                                       Mean   :5059124  \n",
              " 3rd Qu.:4.000                                       3rd Qu.:7500000  \n",
              " Max.   :5.000                                       Max.   :9900000  \n",
              "  loan_amount         loan_term     cibil_score    residential_assets_value\n",
              " Min.   :  300000   Min.   : 2.0   Min.   :300.0   Min.   : -100000        \n",
              " 1st Qu.: 7700000   1st Qu.: 6.0   1st Qu.:453.0   1st Qu.: 2200000        \n",
              " Median :14500000   Median :10.0   Median :600.0   Median : 5600000        \n",
              " Mean   :15133450   Mean   :10.9   Mean   :599.9   Mean   : 7472616        \n",
              " 3rd Qu.:21500000   3rd Qu.:16.0   3rd Qu.:748.0   3rd Qu.:11300000        \n",
              " Max.   :39500000   Max.   :20.0   Max.   :900.0   Max.   :29100000        \n",
              " commercial_assets_value luxury_assets_value bank_asset_value  \n",
              " Min.   :       0        Min.   :  300000    Min.   :       0  \n",
              " 1st Qu.: 1300000        1st Qu.: 7500000    1st Qu.: 2300000  \n",
              " Median : 3700000        Median :14600000    Median : 4600000  \n",
              " Mean   : 4973155        Mean   :15126306    Mean   : 4976692  \n",
              " 3rd Qu.: 7600000        3rd Qu.:21700000    3rd Qu.: 7100000  \n",
              " Max.   :19400000        Max.   :39200000    Max.   :14700000  \n",
              "    loan_status  \n",
              "  Approved:2656  \n",
              "  Rejected:1613  \n",
              "                 \n",
              "                 \n",
              "                 \n",
              "                 "
            ]
          },
          "metadata": {}
        }
      ]
    },
    {
      "cell_type": "markdown",
      "source": [
        "### Data Imputation"
      ],
      "metadata": {
        "id": "DOT47JyqQvtB"
      }
    },
    {
      "cell_type": "code",
      "source": [
        "sum(is.na(dt_data))"
      ],
      "metadata": {
        "colab": {
          "base_uri": "https://localhost:8080/",
          "height": 34
        },
        "id": "B0PSp7jUQwHx",
        "outputId": "4440d657-9657-4576-8b10-2f7a1675d968"
      },
      "execution_count": null,
      "outputs": [
        {
          "output_type": "display_data",
          "data": {
            "text/html": [
              "0"
            ],
            "text/markdown": "0",
            "text/latex": "0",
            "text/plain": [
              "[1] 0"
            ]
          },
          "metadata": {}
        }
      ]
    },
    {
      "cell_type": "markdown",
      "source": [
        "### Model Training"
      ],
      "metadata": {
        "id": "EVxLZaWpQy8m"
      }
    },
    {
      "cell_type": "code",
      "source": [
        "calculate_subset_accuracy = function(subset_data, model_to_use, target_col_name = \"loan_status\") {\n",
        "    predictions = predict(model_to_use, newdata = subset_data, type = \"class\")\n",
        "    actual_status = subset_data[[target_col_name]]\n",
        "    mat = confusionMatrix(data = predictions, reference = actual_status)\n",
        "    return(mat$overall[\"Accuracy\"])\n",
        "}"
      ],
      "metadata": {
        "id": "ZHf8V512Q06x"
      },
      "execution_count": null,
      "outputs": []
    },
    {
      "cell_type": "code",
      "source": [
        "# Define a function to perform one iteration of training and evaluation\n",
        "train_and_evaluate_dt = function(dt_data, iteration_number = 0, perc = 0.75) {\n",
        "  # Randomly divide data into train (75%) and test (25%) subsets\n",
        "  data_length = 1:nrow(lr_data)\n",
        "  train_indices = caret::createDataPartition(y = data_length, p = perc, list = FALSE)\n",
        "  train_data = dt_data[train_indices, ]\n",
        "  test_data = dt_data[-train_indices, ]\n",
        "\n",
        "  # Train Decision Tree model\n",
        "  dt_model = rpart(formula = loan_status ~ ., data = train_data)\n",
        "\n",
        "  # Make predictions over the test data\n",
        "  predictions = predict(dt_model, newdata = test_data, type = \"class\")\n",
        "\n",
        "  # Calculate Metrics\n",
        "  actual_status = test_data$loan_status\n",
        "  mat = confusionMatrix(predictions, actual_status)\n",
        "\n",
        "  # Overall accuracy\n",
        "  overall_accuracy = mat$overall[\"Accuracy\"]\n",
        "\n",
        "  # Accuracy per class of loan_status\n",
        "  accuracy_approved = mat$byClass[[1]]  # Sensitivity\n",
        "  accuracy_rejected = mat$byClass[[2]]  # Specificity\n",
        "\n",
        "  # Accuracy for \"Graduate\" only subset\n",
        "  test_data_graduate = subset(test_data, education == \" Graduate\")\n",
        "  accuracy_graduate = calculate_subset_accuracy(test_data_graduate, dt_model)\n",
        "\n",
        "  # Accuracy for \"Not Graduate\" only subset\n",
        "  test_data_not_graduate= subset(test_data, education == \" Not Graduate\")\n",
        "  accuracy_not_graduate = calculate_subset_accuracy(test_data_not_graduate, dt_model)\n",
        "\n",
        "  # Accuracy for \"Self employed\" (Yes) only subset\n",
        "  test_data_self_employed_yes = subset(test_data, self_employed == \" Yes\")\n",
        "  accuracy_self_employed_yes = calculate_subset_accuracy(test_data_self_employed_yes, dt_model)\n",
        "\n",
        "  # Accuracy for \"Not self employed\" (No) only subset\n",
        "  test_data_self_employed_no = subset(test_data, self_employed == \" No\")\n",
        "  accuracy_self_employed_no = calculate_subset_accuracy(test_data_self_employed_no, dt_model)\n",
        "\n",
        "  # predictions_edu_subset = factor(predictions_edu_subset, levels = levels(actual_status_edu_subset))\n",
        "\n",
        "  return(list(\n",
        "    metrics = data.frame(\n",
        "      iteration = iteration_number,\n",
        "      overall_accuracy = overall_accuracy,\n",
        "      accuracy_approved = accuracy_approved,\n",
        "      accuracy_rejected = accuracy_rejected,\n",
        "      accuracy_subset_graduate = accuracy_graduate,\n",
        "      accuracy_subset_not_Graduate = accuracy_not_graduate,\n",
        "      accuracy_subset_self_employed_yes = accuracy_self_employed_yes,\n",
        "      accuracy_subset_self_employed_no = accuracy_self_employed_no\n",
        "    ),\n",
        "    model = dt_model\n",
        "  ))\n",
        "}"
      ],
      "metadata": {
        "id": "8OFRTzYpQ2Nh"
      },
      "execution_count": null,
      "outputs": []
    },
    {
      "cell_type": "code",
      "source": [
        "# Initialize variables\n",
        "dt_models_list = list()\n",
        "dt_metrics_list = list()\n",
        "train_percentage = 0.75"
      ],
      "metadata": {
        "id": "6tG-aSOyQ43u"
      },
      "execution_count": null,
      "outputs": []
    },
    {
      "cell_type": "code",
      "source": [
        "for (i in 1:10) {\n",
        "  iteration_result_dt = train_and_evaluate_dt(dt_data, iteration_number = i, perc = train_percentage)\n",
        "  dt_models_list[[i]] = iteration_result_dt$model\n",
        "  dt_metrics_list[[i]] = iteration_result_dt$metrics\n",
        "}"
      ],
      "metadata": {
        "id": "mepSzr-3Q5Ga"
      },
      "execution_count": null,
      "outputs": []
    },
    {
      "cell_type": "code",
      "metadata": {
        "id": "dMtdIV0tq4bp"
      },
      "source": [
        "#Write your code here:\n",
        "# - Use as many cells as needed for clear readability of the code\n",
        "# - Use comments or text cell for pertinent explanations on results or non-trivial code"
      ],
      "execution_count": null,
      "outputs": []
    },
    {
      "cell_type": "markdown",
      "metadata": {
        "id": "JwiNa7DG8niI"
      },
      "source": [
        "### An End-to-End example 👀\n",
        "(but please, in your solution do not do like me and use more than one cell to organize the code, when possible 🙂)"
      ]
    }
  ]
}